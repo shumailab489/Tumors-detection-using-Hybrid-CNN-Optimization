{
 "cells": [
  {
   "cell_type": "code",
   "execution_count": 1,
   "id": "1b58f801",
   "metadata": {
    "execution": {
     "iopub.execute_input": "2024-07-01T05:07:40.297655Z",
     "iopub.status.busy": "2024-07-01T05:07:40.297311Z",
     "iopub.status.idle": "2024-07-01T05:07:53.131164Z",
     "shell.execute_reply": "2024-07-01T05:07:53.130099Z"
    },
    "papermill": {
     "duration": 12.842734,
     "end_time": "2024-07-01T05:07:53.133724",
     "exception": false,
     "start_time": "2024-07-01T05:07:40.290990",
     "status": "completed"
    },
    "tags": []
   },
   "outputs": [
    {
     "name": "stderr",
     "output_type": "stream",
     "text": [
      "2024-07-01 05:07:42.858108: E external/local_xla/xla/stream_executor/cuda/cuda_dnn.cc:9261] Unable to register cuDNN factory: Attempting to register factory for plugin cuDNN when one has already been registered\n",
      "2024-07-01 05:07:42.858218: E external/local_xla/xla/stream_executor/cuda/cuda_fft.cc:607] Unable to register cuFFT factory: Attempting to register factory for plugin cuFFT when one has already been registered\n",
      "2024-07-01 05:07:42.984098: E external/local_xla/xla/stream_executor/cuda/cuda_blas.cc:1515] Unable to register cuBLAS factory: Attempting to register factory for plugin cuBLAS when one has already been registered\n"
     ]
    }
   ],
   "source": [
    "import numpy as np \n",
    "import pandas as pd \n",
    "import os\n",
    "import shutil\n",
    "import glob\n",
    "import random\n",
    "from tensorflow.keras.preprocessing.image import ImageDataGenerator\n",
    "import tensorflow as tf\n",
    "def create_data_path(base_path,input_path):\n",
    "    try:\n",
    "        os.makedirs(os.path.join(base_path,'training'))\n",
    "        os.makedirs(os.path.join(base_path, 'training/0'))\n",
    "        os.makedirs(os.path.join(base_path, 'training/1'))\n",
    "        os.makedirs(os.path.join(base_path,'validation'))\n",
    "        os.makedirs(os.path.join(base_path, 'validation/1'))\n",
    "        os.makedirs(os.path.join(base_path, 'validation/0'))\n",
    "    except:\n",
    "        print(\"the folders already exist\")\n",
    "    list_dir=glob.glob(os.path.join(input_path,'*'))\n",
    "    print(list_dir)\n",
    "    for id in list_dir:\n",
    "        list_file_0=glob.glob(os.path.join(id,'0/*'))\n",
    "        list_file_1= glob.glob(os.path.join(id, '1/*'))\n",
    "        for file_0 in list_file_0:\n",
    "            src_path = file_0\n",
    "            dst_path = os.path.join(os.path.join(base_path, 'training/0'), os.path.basename(file_0))\n",
    "            shutil.copy(src_path, dst_path)\n",
    "\n",
    "        for file_1 in list_file_1:\n",
    "            src_path = file_1\n",
    "            dst_path = os.path.join(os.path.join(base_path, 'training/1'), os.path.basename(file_1))\n",
    "            shutil.copy(src_path, dst_path)"
   ]
  },
  {
   "cell_type": "code",
   "execution_count": 2,
   "id": "d536dd22",
   "metadata": {
    "execution": {
     "iopub.execute_input": "2024-07-01T05:07:53.145380Z",
     "iopub.status.busy": "2024-07-01T05:07:53.144126Z",
     "iopub.status.idle": "2024-07-01T05:07:53.149988Z",
     "shell.execute_reply": "2024-07-01T05:07:53.149217Z"
    },
    "papermill": {
     "duration": 0.013327,
     "end_time": "2024-07-01T05:07:53.151917",
     "exception": false,
     "start_time": "2024-07-01T05:07:53.138590",
     "status": "completed"
    },
    "tags": []
   },
   "outputs": [],
   "source": [
    "def remove_dir(base_path):\n",
    "    try:\n",
    "        shutil.rmtree(os.path.join(base_path,'training'))\n",
    "        shutil.rmtree(os.path.join(base_path,'validation'))\n",
    "    except Exception as e:\n",
    "        print(\"problem removing directories\")\n",
    "        print(str(e))"
   ]
  },
  {
   "cell_type": "code",
   "execution_count": 3,
   "id": "5878427f",
   "metadata": {
    "execution": {
     "iopub.execute_input": "2024-07-01T05:07:53.162177Z",
     "iopub.status.busy": "2024-07-01T05:07:53.161815Z",
     "iopub.status.idle": "2024-07-01T05:07:53.166473Z",
     "shell.execute_reply": "2024-07-01T05:07:53.165461Z"
    },
    "papermill": {
     "duration": 0.012229,
     "end_time": "2024-07-01T05:07:53.168552",
     "exception": false,
     "start_time": "2024-07-01T05:07:53.156323",
     "status": "completed"
    },
    "tags": []
   },
   "outputs": [
    {
     "name": "stdout",
     "output_type": "stream",
     "text": [
      "problem removing directories\n",
      "[Errno 2] No such file or directory: '/kaggle/working/training'\n"
     ]
    }
   ],
   "source": [
    "#for cleanup\n",
    "remove_dir('/kaggle/working/')"
   ]
  },
  {
   "cell_type": "code",
   "execution_count": 4,
   "id": "6e89edd6",
   "metadata": {
    "execution": {
     "iopub.execute_input": "2024-07-01T05:07:53.179034Z",
     "iopub.status.busy": "2024-07-01T05:07:53.178457Z",
     "iopub.status.idle": "2024-07-01T05:43:49.777718Z",
     "shell.execute_reply": "2024-07-01T05:43:49.776212Z"
    },
    "papermill": {
     "duration": 2156.607729,
     "end_time": "2024-07-01T05:43:49.780795",
     "exception": false,
     "start_time": "2024-07-01T05:07:53.173066",
     "status": "completed"
    },
    "tags": []
   },
   "outputs": [
    {
     "name": "stdout",
     "output_type": "stream",
     "text": [
      "['/kaggle/input/breast-histopathology-images/10295', '/kaggle/input/breast-histopathology-images/10304', '/kaggle/input/breast-histopathology-images/12868', '/kaggle/input/breast-histopathology-images/10274', '/kaggle/input/breast-histopathology-images/12818', '/kaggle/input/breast-histopathology-images/14190', '/kaggle/input/breast-histopathology-images/12869', '/kaggle/input/breast-histopathology-images/9323', '/kaggle/input/breast-histopathology-images/10291', '/kaggle/input/breast-histopathology-images/12906', '/kaggle/input/breast-histopathology-images/9176', '/kaggle/input/breast-histopathology-images/8984', '/kaggle/input/breast-histopathology-images/10299', '/kaggle/input/breast-histopathology-images/12930', '/kaggle/input/breast-histopathology-images/9344', '/kaggle/input/breast-histopathology-images/12935', '/kaggle/input/breast-histopathology-images/12894', '/kaggle/input/breast-histopathology-images/12909', '/kaggle/input/breast-histopathology-images/9381', '/kaggle/input/breast-histopathology-images/9346', '/kaggle/input/breast-histopathology-images/9175', '/kaggle/input/breast-histopathology-images/10262', '/kaggle/input/breast-histopathology-images/8980', '/kaggle/input/breast-histopathology-images/16896', '/kaggle/input/breast-histopathology-images/12241', '/kaggle/input/breast-histopathology-images/12910', '/kaggle/input/breast-histopathology-images/13617', '/kaggle/input/breast-histopathology-images/13401', '/kaggle/input/breast-histopathology-images/12891', '/kaggle/input/breast-histopathology-images/10300', '/kaggle/input/breast-histopathology-images/9076', '/kaggle/input/breast-histopathology-images/10259', '/kaggle/input/breast-histopathology-images/9124', '/kaggle/input/breast-histopathology-images/13402', '/kaggle/input/breast-histopathology-images/12870', '/kaggle/input/breast-histopathology-images/16550', '/kaggle/input/breast-histopathology-images/10255', '/kaggle/input/breast-histopathology-images/9261', '/kaggle/input/breast-histopathology-images/15471', '/kaggle/input/breast-histopathology-images/12931', '/kaggle/input/breast-histopathology-images/12955', '/kaggle/input/breast-histopathology-images/10258', '/kaggle/input/breast-histopathology-images/13461', '/kaggle/input/breast-histopathology-images/13023', '/kaggle/input/breast-histopathology-images/9260', '/kaggle/input/breast-histopathology-images/8957', '/kaggle/input/breast-histopathology-images/9035', '/kaggle/input/breast-histopathology-images/10268', '/kaggle/input/breast-histopathology-images/13403', '/kaggle/input/breast-histopathology-images/10288', '/kaggle/input/breast-histopathology-images/9262', '/kaggle/input/breast-histopathology-images/12911', '/kaggle/input/breast-histopathology-images/9319', '/kaggle/input/breast-histopathology-images/10254', '/kaggle/input/breast-histopathology-images/13616', '/kaggle/input/breast-histopathology-images/10253', '/kaggle/input/breast-histopathology-images/8974', '/kaggle/input/breast-histopathology-images/9135', '/kaggle/input/breast-histopathology-images/10257', '/kaggle/input/breast-histopathology-images/9291', '/kaggle/input/breast-histopathology-images/9320', '/kaggle/input/breast-histopathology-images/14209', '/kaggle/input/breast-histopathology-images/14078', '/kaggle/input/breast-histopathology-images/12749', '/kaggle/input/breast-histopathology-images/9043', '/kaggle/input/breast-histopathology-images/9041', '/kaggle/input/breast-histopathology-images/8975', '/kaggle/input/breast-histopathology-images/9075', '/kaggle/input/breast-histopathology-images/13025', '/kaggle/input/breast-histopathology-images/13021', '/kaggle/input/breast-histopathology-images/13458', '/kaggle/input/breast-histopathology-images/12901', '/kaggle/input/breast-histopathology-images/16552', '/kaggle/input/breast-histopathology-images/13688', '/kaggle/input/breast-histopathology-images/15902', '/kaggle/input/breast-histopathology-images/13692', '/kaggle/input/breast-histopathology-images/12879', '/kaggle/input/breast-histopathology-images/9073', '/kaggle/input/breast-histopathology-images/15514', '/kaggle/input/breast-histopathology-images/9325', '/kaggle/input/breast-histopathology-images/10277', '/kaggle/input/breast-histopathology-images/12810', '/kaggle/input/breast-histopathology-images/8864', '/kaggle/input/breast-histopathology-images/8917', '/kaggle/input/breast-histopathology-images/14305', '/kaggle/input/breast-histopathology-images/16167', '/kaggle/input/breast-histopathology-images/13022', '/kaggle/input/breast-histopathology-images/16555', '/kaggle/input/breast-histopathology-images/12932', '/kaggle/input/breast-histopathology-images/14189', '/kaggle/input/breast-histopathology-images/8867', '/kaggle/input/breast-histopathology-images/16166', '/kaggle/input/breast-histopathology-images/10290', '/kaggle/input/breast-histopathology-images/9083', '/kaggle/input/breast-histopathology-images/15840', '/kaggle/input/breast-histopathology-images/12907', '/kaggle/input/breast-histopathology-images/12880', '/kaggle/input/breast-histopathology-images/12908', '/kaggle/input/breast-histopathology-images/13693', '/kaggle/input/breast-histopathology-images/13591', '/kaggle/input/breast-histopathology-images/15516', '/kaggle/input/breast-histopathology-images/9228', '/kaggle/input/breast-histopathology-images/14192', '/kaggle/input/breast-histopathology-images/12949', '/kaggle/input/breast-histopathology-images/10306', '/kaggle/input/breast-histopathology-images/9345', '/kaggle/input/breast-histopathology-images/14156', '/kaggle/input/breast-histopathology-images/12872', '/kaggle/input/breast-histopathology-images/9123', '/kaggle/input/breast-histopathology-images/13019', '/kaggle/input/breast-histopathology-images/9226', '/kaggle/input/breast-histopathology-images/14304', '/kaggle/input/breast-histopathology-images/10260', '/kaggle/input/breast-histopathology-images/14154', '/kaggle/input/breast-histopathology-images/15472', '/kaggle/input/breast-histopathology-images/15903', '/kaggle/input/breast-histopathology-images/12826', '/kaggle/input/breast-histopathology-images/13020', '/kaggle/input/breast-histopathology-images/16569', '/kaggle/input/breast-histopathology-images/14191', '/kaggle/input/breast-histopathology-images/16568', '/kaggle/input/breast-histopathology-images/16570', '/kaggle/input/breast-histopathology-images/13459', '/kaggle/input/breast-histopathology-images/8956', '/kaggle/input/breast-histopathology-images/13106', '/kaggle/input/breast-histopathology-images/10261', '/kaggle/input/breast-histopathology-images/9023', '/kaggle/input/breast-histopathology-images/13460', '/kaggle/input/breast-histopathology-images/16532', '/kaggle/input/breast-histopathology-images/12819', '/kaggle/input/breast-histopathology-images/12867', '/kaggle/input/breast-histopathology-images/8959', '/kaggle/input/breast-histopathology-images/9265', '/kaggle/input/breast-histopathology-images/9255', '/kaggle/input/breast-histopathology-images/14082', '/kaggle/input/breast-histopathology-images/12929', '/kaggle/input/breast-histopathology-images/8914', '/kaggle/input/breast-histopathology-images/9383', '/kaggle/input/breast-histopathology-images/14210', '/kaggle/input/breast-histopathology-images/10302', '/kaggle/input/breast-histopathology-images/12822', '/kaggle/input/breast-histopathology-images/10276', '/kaggle/input/breast-histopathology-images/10279', '/kaggle/input/breast-histopathology-images/12876', '/kaggle/input/breast-histopathology-images/10269', '/kaggle/input/breast-histopathology-images/8865', '/kaggle/input/breast-histopathology-images/13400', '/kaggle/input/breast-histopathology-images/12948', '/kaggle/input/breast-histopathology-images/12748', '/kaggle/input/breast-histopathology-images/9126', '/kaggle/input/breast-histopathology-images/9266', '/kaggle/input/breast-histopathology-images/9177', '/kaggle/input/breast-histopathology-images/8955', '/kaggle/input/breast-histopathology-images/12900', '/kaggle/input/breast-histopathology-images/9181', '/kaggle/input/breast-histopathology-images/9257', '/kaggle/input/breast-histopathology-images/9322', '/kaggle/input/breast-histopathology-images/12751', '/kaggle/input/breast-histopathology-images/9081', '/kaggle/input/breast-histopathology-images/15634', '/kaggle/input/breast-histopathology-images/10286', '/kaggle/input/breast-histopathology-images/14213', '/kaggle/input/breast-histopathology-images/9256', '/kaggle/input/breast-histopathology-images/10308', '/kaggle/input/breast-histopathology-images/16165', '/kaggle/input/breast-histopathology-images/12823', '/kaggle/input/breast-histopathology-images/9225', '/kaggle/input/breast-histopathology-images/9227', '/kaggle/input/breast-histopathology-images/16551', '/kaggle/input/breast-histopathology-images/13613', '/kaggle/input/breast-histopathology-images/14306', '/kaggle/input/breast-histopathology-images/16085', '/kaggle/input/breast-histopathology-images/16534', '/kaggle/input/breast-histopathology-images/14188', '/kaggle/input/breast-histopathology-images/14212', '/kaggle/input/breast-histopathology-images/12824', '/kaggle/input/breast-histopathology-images/16554', '/kaggle/input/breast-histopathology-images/13691', '/kaggle/input/breast-histopathology-images/13916', '/kaggle/input/breast-histopathology-images/12877', '/kaggle/input/breast-histopathology-images/13024', '/kaggle/input/breast-histopathology-images/10264', '/kaggle/input/breast-histopathology-images/12884', '/kaggle/input/breast-histopathology-images/12750', '/kaggle/input/breast-histopathology-images/14081', '/kaggle/input/breast-histopathology-images/15473', '/kaggle/input/breast-histopathology-images/15839', '/kaggle/input/breast-histopathology-images/12896', '/kaggle/input/breast-histopathology-images/9267', '/kaggle/input/breast-histopathology-images/10278', '/kaggle/input/breast-histopathology-images/16533', '/kaggle/input/breast-histopathology-images/13404', '/kaggle/input/breast-histopathology-images/12893', '/kaggle/input/breast-histopathology-images/12892', '/kaggle/input/breast-histopathology-images/9125', '/kaggle/input/breast-histopathology-images/9029', '/kaggle/input/breast-histopathology-images/14211', '/kaggle/input/breast-histopathology-images/12626', '/kaggle/input/breast-histopathology-images/10275', '/kaggle/input/breast-histopathology-images/9174', '/kaggle/input/breast-histopathology-images/9250', '/kaggle/input/breast-histopathology-images/15515', '/kaggle/input/breast-histopathology-images/9173', '/kaggle/input/breast-histopathology-images/12895', '/kaggle/input/breast-histopathology-images/12897', '/kaggle/input/breast-histopathology-images/12882', '/kaggle/input/breast-histopathology-images/12875', '/kaggle/input/breast-histopathology-images/12905', '/kaggle/input/breast-histopathology-images/13666', '/kaggle/input/breast-histopathology-images/15633', '/kaggle/input/breast-histopathology-images/8863', '/kaggle/input/breast-histopathology-images/12934', '/kaggle/input/breast-histopathology-images/12890', '/kaggle/input/breast-histopathology-images/10305', '/kaggle/input/breast-histopathology-images/9036', '/kaggle/input/breast-histopathology-images/12883', '/kaggle/input/breast-histopathology-images/10307', '/kaggle/input/breast-histopathology-images/14153', '/kaggle/input/breast-histopathology-images/16531', '/kaggle/input/breast-histopathology-images/15632', '/kaggle/input/breast-histopathology-images/12820', '/kaggle/input/breast-histopathology-images/10272', '/kaggle/input/breast-histopathology-images/12871', '/kaggle/input/breast-histopathology-images/9382', '/kaggle/input/breast-histopathology-images/10256', '/kaggle/input/breast-histopathology-images/9258', '/kaggle/input/breast-histopathology-images/16014', '/kaggle/input/breast-histopathology-images/16895', '/kaggle/input/breast-histopathology-images/13462', '/kaggle/input/breast-histopathology-images/14079', '/kaggle/input/breast-histopathology-images/12817', '/kaggle/input/breast-histopathology-images/8918', '/kaggle/input/breast-histopathology-images/8916', '/kaggle/input/breast-histopathology-images/15510', '/kaggle/input/breast-histopathology-images/12878', '/kaggle/input/breast-histopathology-images/12242', '/kaggle/input/breast-histopathology-images/14321', '/kaggle/input/breast-histopathology-images/9044', '/kaggle/input/breast-histopathology-images/9324', '/kaggle/input/breast-histopathology-images/12933', '/kaggle/input/breast-histopathology-images/8951', '/kaggle/input/breast-histopathology-images/10273', '/kaggle/input/breast-histopathology-images/12811', '/kaggle/input/breast-histopathology-images/9078', '/kaggle/input/breast-histopathology-images/14157', '/kaggle/input/breast-histopathology-images/10282', '/kaggle/input/breast-histopathology-images/9290', '/kaggle/input/breast-histopathology-images/13694', '/kaggle/input/breast-histopathology-images/9321', '/kaggle/input/breast-histopathology-images/8950', '/kaggle/input/breast-histopathology-images/15513', '/kaggle/input/breast-histopathology-images/10285', '/kaggle/input/breast-histopathology-images/9022', '/kaggle/input/breast-histopathology-images/16553', '/kaggle/input/breast-histopathology-images/8913', '/kaggle/input/breast-histopathology-images/13018', '/kaggle/input/breast-histopathology-images/12821', '/kaggle/input/breast-histopathology-images/12951', '/kaggle/input/breast-histopathology-images/12898', '/kaggle/input/breast-histopathology-images/13687', '/kaggle/input/breast-histopathology-images/9178', '/kaggle/input/breast-histopathology-images/13689', '/kaggle/input/breast-histopathology-images/12947', '/kaggle/input/breast-histopathology-images/15512', '/kaggle/input/breast-histopathology-images/10303', '/kaggle/input/breast-histopathology-images/12881', '/kaggle/input/breast-histopathology-images/12886', '/kaggle/input/breast-histopathology-images/12752', '/kaggle/input/breast-histopathology-images/9347', '/kaggle/input/breast-histopathology-images/10301', '/kaggle/input/breast-histopathology-images/IDC_regular_ps50_idx5', '/kaggle/input/breast-histopathology-images/9254', '/kaggle/input/breast-histopathology-images/10293', '/kaggle/input/breast-histopathology-images/12954', '/kaggle/input/breast-histopathology-images/9259', '/kaggle/input/breast-histopathology-images/14155', '/kaggle/input/breast-histopathology-images/9077', '/kaggle/input/breast-histopathology-images/10292', '/kaggle/input/breast-histopathology-images/9037', '/kaggle/input/breast-histopathology-images/12873']\n"
     ]
    }
   ],
   "source": [
    "create_data_path('/kaggle/working/','/kaggle/input/breast-histopathology-images/')"
   ]
  },
  {
   "cell_type": "code",
   "execution_count": 5,
   "id": "8eda94c3",
   "metadata": {
    "execution": {
     "iopub.execute_input": "2024-07-01T05:43:49.793167Z",
     "iopub.status.busy": "2024-07-01T05:43:49.792365Z",
     "iopub.status.idle": "2024-07-01T05:43:49.800525Z",
     "shell.execute_reply": "2024-07-01T05:43:49.799645Z"
    },
    "papermill": {
     "duration": 0.016058,
     "end_time": "2024-07-01T05:43:49.802391",
     "exception": false,
     "start_time": "2024-07-01T05:43:49.786333",
     "status": "completed"
    },
    "tags": []
   },
   "outputs": [],
   "source": [
    "def split_training_validation(base_path,split_size):\n",
    "    list_file_0=glob.glob(os.path.join(base_path,'training/0/*'))\n",
    "    list_file_1 = glob.glob(os.path.join(base_path, 'training/1/*'))\n",
    "    tot_file=list_file_1+list_file_0\n",
    "    random.shuffle(tot_file)\n",
    "    training_set=tot_file[0:int(len(tot_file)*split_size)]\n",
    "    validation_set=tot_file[int(len(tot_file)*split_size):]\n",
    "    for file in validation_set:\n",
    "        if file[-5]=='0':\n",
    "            dst_path = os.path.join(os.path.join(base_path, 'validation/0'), os.path.basename(file))\n",
    "            shutil.copy(file, dst_path)\n",
    "        elif file[-5]=='1':\n",
    "            dst_path = os.path.join(os.path.join(base_path, 'validation/1'), os.path.basename(file))\n",
    "            shutil.copy(file, dst_path)"
   ]
  },
  {
   "cell_type": "code",
   "execution_count": 6,
   "id": "f9b2e5b8",
   "metadata": {
    "execution": {
     "iopub.execute_input": "2024-07-01T05:43:49.813691Z",
     "iopub.status.busy": "2024-07-01T05:43:49.813132Z",
     "iopub.status.idle": "2024-07-01T05:43:58.396234Z",
     "shell.execute_reply": "2024-07-01T05:43:58.395417Z"
    },
    "papermill": {
     "duration": 8.591356,
     "end_time": "2024-07-01T05:43:58.398636",
     "exception": false,
     "start_time": "2024-07-01T05:43:49.807280",
     "status": "completed"
    },
    "tags": []
   },
   "outputs": [],
   "source": [
    "training_split=0.8\n",
    "split_training_validation('/kaggle/working/',training_split)"
   ]
  },
  {
   "cell_type": "code",
   "execution_count": 7,
   "id": "3ca0940b",
   "metadata": {
    "execution": {
     "iopub.execute_input": "2024-07-01T05:43:58.409955Z",
     "iopub.status.busy": "2024-07-01T05:43:58.409590Z",
     "iopub.status.idle": "2024-07-01T05:43:58.416438Z",
     "shell.execute_reply": "2024-07-01T05:43:58.415585Z"
    },
    "papermill": {
     "duration": 0.01474,
     "end_time": "2024-07-01T05:43:58.418365",
     "exception": false,
     "start_time": "2024-07-01T05:43:58.403625",
     "status": "completed"
    },
    "tags": []
   },
   "outputs": [],
   "source": [
    "from tensorflow.keras.preprocessing.image import ImageDataGenerator\n",
    "def create_data_generator(base_path,target_size):\n",
    "    # All images will be rescaled by 1./255\n",
    "    train_datagen = ImageDataGenerator(rescale=1 / 255)\n",
    "    validation_datagen = ImageDataGenerator(rescale=1 / 255)\n",
    "\n",
    "    # Flow training images in batches of 64 using train_datagen generator\n",
    "    train_generator = train_datagen.flow_from_directory(\n",
    "        os.path.join(base_path,'training/'),  # This is the source directory for training images\n",
    "        target_size=target_size,  \n",
    "        batch_size=16,\n",
    "        # Since you use binary_crossentropy loss, you need binary labels\n",
    "        class_mode='binary')\n",
    "\n",
    "    # Flow validation images in batches of 64 using validation_datagen generator\n",
    "    validation_generator = validation_datagen.flow_from_directory(\n",
    "        os.path.join(base_path,'validation/'),  # This is the source directory for validation images\n",
    "        target_size=target_size,  \n",
    "        batch_size=16,\n",
    "        # Since you use binary_crossentropy loss, you need binary labels\n",
    "        class_mode='binary')\n",
    "    return train_generator,validation_generator"
   ]
  },
  {
   "cell_type": "code",
   "execution_count": 8,
   "id": "9835ad68",
   "metadata": {
    "execution": {
     "iopub.execute_input": "2024-07-01T05:43:58.429510Z",
     "iopub.status.busy": "2024-07-01T05:43:58.429165Z",
     "iopub.status.idle": "2024-07-01T05:44:07.107007Z",
     "shell.execute_reply": "2024-07-01T05:44:07.105905Z"
    },
    "papermill": {
     "duration": 8.686876,
     "end_time": "2024-07-01T05:44:07.110159",
     "exception": false,
     "start_time": "2024-07-01T05:43:58.423283",
     "status": "completed"
    },
    "tags": []
   },
   "outputs": [
    {
     "name": "stdout",
     "output_type": "stream",
     "text": [
      "Found 277524 images belonging to 2 classes.\n",
      "Found 55505 images belonging to 2 classes.\n"
     ]
    }
   ],
   "source": [
    "train_generator,validation_generator=create_data_generator('/kaggle/working/',(50,50))"
   ]
  },
  {
   "cell_type": "code",
   "execution_count": 9,
   "id": "8fe92937",
   "metadata": {
    "execution": {
     "iopub.execute_input": "2024-07-01T05:44:07.126551Z",
     "iopub.status.busy": "2024-07-01T05:44:07.126143Z",
     "iopub.status.idle": "2024-07-01T05:44:07.154537Z",
     "shell.execute_reply": "2024-07-01T05:44:07.153590Z"
    },
    "papermill": {
     "duration": 0.039509,
     "end_time": "2024-07-01T05:44:07.157069",
     "exception": false,
     "start_time": "2024-07-01T05:44:07.117560",
     "status": "completed"
    },
    "tags": []
   },
   "outputs": [],
   "source": [
    "import tensorflow as tf\n",
    "\n",
    "def create_model(input_shape):\n",
    "    model = tf.keras.models.Sequential([\n",
    "        # First convolutional block\n",
    "        tf.keras.layers.Conv2D(64, (3, 3), activation='relu', input_shape=input_shape),\n",
    "        tf.keras.layers.MaxPooling2D(2, 2),\n",
    "        \n",
    "        # Second convolutional block\n",
    "        tf.keras.layers.Conv2D(128, (3, 3), activation='relu'),\n",
    "        tf.keras.layers.MaxPooling2D(2, 2),\n",
    "        \n",
    "        # Third convolutional block\n",
    "        tf.keras.layers.Conv2D(256, (3, 3), activation='relu'),\n",
    "        tf.keras.layers.MaxPooling2D(2, 2),\n",
    "        \n",
    "        # Fourth convolutional block\n",
    "        tf.keras.layers.Conv2D(512, (3, 3), activation='relu'),\n",
    "        tf.keras.layers.MaxPooling2D(2, 2),\n",
    "\n",
    "        # Flatten the results to feed into a DNN\n",
    "        tf.keras.layers.Flatten(),\n",
    "        \n",
    "        # First fully connected layer\n",
    "        tf.keras.layers.Dense(512, activation='relu'),\n",
    "        tf.keras.layers.Dropout(0.4),\n",
    "        \n",
    "        # Second fully connected layer\n",
    "        tf.keras.layers.Dense(256, activation='relu'),\n",
    "        tf.keras.layers.Dropout(0.3),\n",
    "        \n",
    "        # Only 1 output neuron. \n",
    "        tf.keras.layers.Dense(1, activation='sigmoid')\n",
    "    ])\n",
    "\n",
    "\n",
    "    # Custom callback definition (assuming it exists in your context)\n",
    "    class CustomCallback(tf.keras.callbacks.Callback):\n",
    "        # Define your custom callback methods here\n",
    "        pass\n",
    "\n",
    "    my_cb = CustomCallback()\n",
    "\n",
    "    # Updated ReduceLROnPlateau callback\n",
    "    reduce_lr = tf.keras.callbacks.ReduceLROnPlateau(\n",
    "        monitor='val_loss', \n",
    "        factor=0.2, \n",
    "        patience=5, \n",
    "        verbose=1, \n",
    "        min_lr=1e-6\n",
    "    )\n",
    "\n",
    "\n",
    "\n",
    "\n",
    "    # EarlyStopping callback to stop training when validation loss doesn't improve\n",
    "    early_stopping = tf.keras.callbacks.EarlyStopping(\n",
    "        monitor='val_loss', \n",
    "        patience=10, \n",
    "        restore_best_weights=True, \n",
    "        verbose=1\n",
    "    )\n",
    "\n",
    "    model.compile(\n",
    "        loss='binary_crossentropy',\n",
    "        optimizer=tf.keras.optimizers.Adam(learning_rate=0.0001),\n",
    "        metrics=['accuracy']\n",
    "    )\n",
    "\n",
    "    return model, [reduce_lr, early_stopping, my_cb]"
   ]
  },
  {
   "cell_type": "code",
   "execution_count": 10,
   "id": "3ab43869",
   "metadata": {
    "execution": {
     "iopub.execute_input": "2024-07-01T05:44:07.171864Z",
     "iopub.status.busy": "2024-07-01T05:44:07.171524Z",
     "iopub.status.idle": "2024-07-01T05:44:07.177571Z",
     "shell.execute_reply": "2024-07-01T05:44:07.176583Z"
    },
    "papermill": {
     "duration": 0.015288,
     "end_time": "2024-07-01T05:44:07.179621",
     "exception": false,
     "start_time": "2024-07-01T05:44:07.164333",
     "status": "completed"
    },
    "tags": []
   },
   "outputs": [],
   "source": [
    "import tensorflow as tf\n",
    "class CustomCallback(tf.keras.callbacks.Callback):\n",
    "\n",
    "    def on_epoch_end(self, epoch, logs=None):\n",
    "        keys = list(logs.keys())\n",
    "        if (logs.get('val_accuracy') > 0.95):\n",
    "            print(\"\\nReached 95% accuracy so cancelling training!\")\n",
    "            self.model.stop_training = True"
   ]
  },
  {
   "cell_type": "code",
   "execution_count": 11,
   "id": "c404a543",
   "metadata": {
    "execution": {
     "iopub.execute_input": "2024-07-01T05:44:07.191121Z",
     "iopub.status.busy": "2024-07-01T05:44:07.190760Z",
     "iopub.status.idle": "2024-07-01T07:56:36.212815Z",
     "shell.execute_reply": "2024-07-01T07:56:36.211902Z"
    },
    "papermill": {
     "duration": 7959.376743,
     "end_time": "2024-07-01T07:56:46.561427",
     "exception": false,
     "start_time": "2024-07-01T05:44:07.184684",
     "status": "completed"
    },
    "tags": []
   },
   "outputs": [
    {
     "name": "stderr",
     "output_type": "stream",
     "text": [
      "/opt/conda/lib/python3.10/site-packages/keras/src/layers/convolutional/base_conv.py:107: UserWarning: Do not pass an `input_shape`/`input_dim` argument to a layer. When using Sequential models, prefer using an `Input(shape)` object as the first layer in the model instead.\n",
      "  super().__init__(activity_regularizer=activity_regularizer, **kwargs)\n"
     ]
    },
    {
     "data": {
      "text/html": [
       "<pre style=\"white-space:pre;overflow-x:auto;line-height:normal;font-family:Menlo,'DejaVu Sans Mono',consolas,'Courier New',monospace\"><span style=\"font-weight: bold\">Model: \"sequential\"</span>\n",
       "</pre>\n"
      ],
      "text/plain": [
       "\u001b[1mModel: \"sequential\"\u001b[0m\n"
      ]
     },
     "metadata": {},
     "output_type": "display_data"
    },
    {
     "data": {
      "text/html": [
       "<pre style=\"white-space:pre;overflow-x:auto;line-height:normal;font-family:Menlo,'DejaVu Sans Mono',consolas,'Courier New',monospace\">┏━━━━━━━━━━━━━━━━━━━━━━━━━━━━━━━━━┳━━━━━━━━━━━━━━━━━━━━━━━━┳━━━━━━━━━━━━━━━┓\n",
       "┃<span style=\"font-weight: bold\"> Layer (type)                    </span>┃<span style=\"font-weight: bold\"> Output Shape           </span>┃<span style=\"font-weight: bold\">       Param # </span>┃\n",
       "┡━━━━━━━━━━━━━━━━━━━━━━━━━━━━━━━━━╇━━━━━━━━━━━━━━━━━━━━━━━━╇━━━━━━━━━━━━━━━┩\n",
       "│ conv2d (<span style=\"color: #0087ff; text-decoration-color: #0087ff\">Conv2D</span>)                 │ (<span style=\"color: #00d7ff; text-decoration-color: #00d7ff\">None</span>, <span style=\"color: #00af00; text-decoration-color: #00af00\">48</span>, <span style=\"color: #00af00; text-decoration-color: #00af00\">48</span>, <span style=\"color: #00af00; text-decoration-color: #00af00\">64</span>)     │         <span style=\"color: #00af00; text-decoration-color: #00af00\">1,792</span> │\n",
       "├─────────────────────────────────┼────────────────────────┼───────────────┤\n",
       "│ max_pooling2d (<span style=\"color: #0087ff; text-decoration-color: #0087ff\">MaxPooling2D</span>)    │ (<span style=\"color: #00d7ff; text-decoration-color: #00d7ff\">None</span>, <span style=\"color: #00af00; text-decoration-color: #00af00\">24</span>, <span style=\"color: #00af00; text-decoration-color: #00af00\">24</span>, <span style=\"color: #00af00; text-decoration-color: #00af00\">64</span>)     │             <span style=\"color: #00af00; text-decoration-color: #00af00\">0</span> │\n",
       "├─────────────────────────────────┼────────────────────────┼───────────────┤\n",
       "│ conv2d_1 (<span style=\"color: #0087ff; text-decoration-color: #0087ff\">Conv2D</span>)               │ (<span style=\"color: #00d7ff; text-decoration-color: #00d7ff\">None</span>, <span style=\"color: #00af00; text-decoration-color: #00af00\">22</span>, <span style=\"color: #00af00; text-decoration-color: #00af00\">22</span>, <span style=\"color: #00af00; text-decoration-color: #00af00\">128</span>)    │        <span style=\"color: #00af00; text-decoration-color: #00af00\">73,856</span> │\n",
       "├─────────────────────────────────┼────────────────────────┼───────────────┤\n",
       "│ max_pooling2d_1 (<span style=\"color: #0087ff; text-decoration-color: #0087ff\">MaxPooling2D</span>)  │ (<span style=\"color: #00d7ff; text-decoration-color: #00d7ff\">None</span>, <span style=\"color: #00af00; text-decoration-color: #00af00\">11</span>, <span style=\"color: #00af00; text-decoration-color: #00af00\">11</span>, <span style=\"color: #00af00; text-decoration-color: #00af00\">128</span>)    │             <span style=\"color: #00af00; text-decoration-color: #00af00\">0</span> │\n",
       "├─────────────────────────────────┼────────────────────────┼───────────────┤\n",
       "│ conv2d_2 (<span style=\"color: #0087ff; text-decoration-color: #0087ff\">Conv2D</span>)               │ (<span style=\"color: #00d7ff; text-decoration-color: #00d7ff\">None</span>, <span style=\"color: #00af00; text-decoration-color: #00af00\">9</span>, <span style=\"color: #00af00; text-decoration-color: #00af00\">9</span>, <span style=\"color: #00af00; text-decoration-color: #00af00\">256</span>)      │       <span style=\"color: #00af00; text-decoration-color: #00af00\">295,168</span> │\n",
       "├─────────────────────────────────┼────────────────────────┼───────────────┤\n",
       "│ max_pooling2d_2 (<span style=\"color: #0087ff; text-decoration-color: #0087ff\">MaxPooling2D</span>)  │ (<span style=\"color: #00d7ff; text-decoration-color: #00d7ff\">None</span>, <span style=\"color: #00af00; text-decoration-color: #00af00\">4</span>, <span style=\"color: #00af00; text-decoration-color: #00af00\">4</span>, <span style=\"color: #00af00; text-decoration-color: #00af00\">256</span>)      │             <span style=\"color: #00af00; text-decoration-color: #00af00\">0</span> │\n",
       "├─────────────────────────────────┼────────────────────────┼───────────────┤\n",
       "│ conv2d_3 (<span style=\"color: #0087ff; text-decoration-color: #0087ff\">Conv2D</span>)               │ (<span style=\"color: #00d7ff; text-decoration-color: #00d7ff\">None</span>, <span style=\"color: #00af00; text-decoration-color: #00af00\">2</span>, <span style=\"color: #00af00; text-decoration-color: #00af00\">2</span>, <span style=\"color: #00af00; text-decoration-color: #00af00\">512</span>)      │     <span style=\"color: #00af00; text-decoration-color: #00af00\">1,180,160</span> │\n",
       "├─────────────────────────────────┼────────────────────────┼───────────────┤\n",
       "│ max_pooling2d_3 (<span style=\"color: #0087ff; text-decoration-color: #0087ff\">MaxPooling2D</span>)  │ (<span style=\"color: #00d7ff; text-decoration-color: #00d7ff\">None</span>, <span style=\"color: #00af00; text-decoration-color: #00af00\">1</span>, <span style=\"color: #00af00; text-decoration-color: #00af00\">1</span>, <span style=\"color: #00af00; text-decoration-color: #00af00\">512</span>)      │             <span style=\"color: #00af00; text-decoration-color: #00af00\">0</span> │\n",
       "├─────────────────────────────────┼────────────────────────┼───────────────┤\n",
       "│ flatten (<span style=\"color: #0087ff; text-decoration-color: #0087ff\">Flatten</span>)               │ (<span style=\"color: #00d7ff; text-decoration-color: #00d7ff\">None</span>, <span style=\"color: #00af00; text-decoration-color: #00af00\">512</span>)            │             <span style=\"color: #00af00; text-decoration-color: #00af00\">0</span> │\n",
       "├─────────────────────────────────┼────────────────────────┼───────────────┤\n",
       "│ dense (<span style=\"color: #0087ff; text-decoration-color: #0087ff\">Dense</span>)                   │ (<span style=\"color: #00d7ff; text-decoration-color: #00d7ff\">None</span>, <span style=\"color: #00af00; text-decoration-color: #00af00\">512</span>)            │       <span style=\"color: #00af00; text-decoration-color: #00af00\">262,656</span> │\n",
       "├─────────────────────────────────┼────────────────────────┼───────────────┤\n",
       "│ dropout (<span style=\"color: #0087ff; text-decoration-color: #0087ff\">Dropout</span>)               │ (<span style=\"color: #00d7ff; text-decoration-color: #00d7ff\">None</span>, <span style=\"color: #00af00; text-decoration-color: #00af00\">512</span>)            │             <span style=\"color: #00af00; text-decoration-color: #00af00\">0</span> │\n",
       "├─────────────────────────────────┼────────────────────────┼───────────────┤\n",
       "│ dense_1 (<span style=\"color: #0087ff; text-decoration-color: #0087ff\">Dense</span>)                 │ (<span style=\"color: #00d7ff; text-decoration-color: #00d7ff\">None</span>, <span style=\"color: #00af00; text-decoration-color: #00af00\">256</span>)            │       <span style=\"color: #00af00; text-decoration-color: #00af00\">131,328</span> │\n",
       "├─────────────────────────────────┼────────────────────────┼───────────────┤\n",
       "│ dropout_1 (<span style=\"color: #0087ff; text-decoration-color: #0087ff\">Dropout</span>)             │ (<span style=\"color: #00d7ff; text-decoration-color: #00d7ff\">None</span>, <span style=\"color: #00af00; text-decoration-color: #00af00\">256</span>)            │             <span style=\"color: #00af00; text-decoration-color: #00af00\">0</span> │\n",
       "├─────────────────────────────────┼────────────────────────┼───────────────┤\n",
       "│ dense_2 (<span style=\"color: #0087ff; text-decoration-color: #0087ff\">Dense</span>)                 │ (<span style=\"color: #00d7ff; text-decoration-color: #00d7ff\">None</span>, <span style=\"color: #00af00; text-decoration-color: #00af00\">1</span>)              │           <span style=\"color: #00af00; text-decoration-color: #00af00\">257</span> │\n",
       "└─────────────────────────────────┴────────────────────────┴───────────────┘\n",
       "</pre>\n"
      ],
      "text/plain": [
       "┏━━━━━━━━━━━━━━━━━━━━━━━━━━━━━━━━━┳━━━━━━━━━━━━━━━━━━━━━━━━┳━━━━━━━━━━━━━━━┓\n",
       "┃\u001b[1m \u001b[0m\u001b[1mLayer (type)                   \u001b[0m\u001b[1m \u001b[0m┃\u001b[1m \u001b[0m\u001b[1mOutput Shape          \u001b[0m\u001b[1m \u001b[0m┃\u001b[1m \u001b[0m\u001b[1m      Param #\u001b[0m\u001b[1m \u001b[0m┃\n",
       "┡━━━━━━━━━━━━━━━━━━━━━━━━━━━━━━━━━╇━━━━━━━━━━━━━━━━━━━━━━━━╇━━━━━━━━━━━━━━━┩\n",
       "│ conv2d (\u001b[38;5;33mConv2D\u001b[0m)                 │ (\u001b[38;5;45mNone\u001b[0m, \u001b[38;5;34m48\u001b[0m, \u001b[38;5;34m48\u001b[0m, \u001b[38;5;34m64\u001b[0m)     │         \u001b[38;5;34m1,792\u001b[0m │\n",
       "├─────────────────────────────────┼────────────────────────┼───────────────┤\n",
       "│ max_pooling2d (\u001b[38;5;33mMaxPooling2D\u001b[0m)    │ (\u001b[38;5;45mNone\u001b[0m, \u001b[38;5;34m24\u001b[0m, \u001b[38;5;34m24\u001b[0m, \u001b[38;5;34m64\u001b[0m)     │             \u001b[38;5;34m0\u001b[0m │\n",
       "├─────────────────────────────────┼────────────────────────┼───────────────┤\n",
       "│ conv2d_1 (\u001b[38;5;33mConv2D\u001b[0m)               │ (\u001b[38;5;45mNone\u001b[0m, \u001b[38;5;34m22\u001b[0m, \u001b[38;5;34m22\u001b[0m, \u001b[38;5;34m128\u001b[0m)    │        \u001b[38;5;34m73,856\u001b[0m │\n",
       "├─────────────────────────────────┼────────────────────────┼───────────────┤\n",
       "│ max_pooling2d_1 (\u001b[38;5;33mMaxPooling2D\u001b[0m)  │ (\u001b[38;5;45mNone\u001b[0m, \u001b[38;5;34m11\u001b[0m, \u001b[38;5;34m11\u001b[0m, \u001b[38;5;34m128\u001b[0m)    │             \u001b[38;5;34m0\u001b[0m │\n",
       "├─────────────────────────────────┼────────────────────────┼───────────────┤\n",
       "│ conv2d_2 (\u001b[38;5;33mConv2D\u001b[0m)               │ (\u001b[38;5;45mNone\u001b[0m, \u001b[38;5;34m9\u001b[0m, \u001b[38;5;34m9\u001b[0m, \u001b[38;5;34m256\u001b[0m)      │       \u001b[38;5;34m295,168\u001b[0m │\n",
       "├─────────────────────────────────┼────────────────────────┼───────────────┤\n",
       "│ max_pooling2d_2 (\u001b[38;5;33mMaxPooling2D\u001b[0m)  │ (\u001b[38;5;45mNone\u001b[0m, \u001b[38;5;34m4\u001b[0m, \u001b[38;5;34m4\u001b[0m, \u001b[38;5;34m256\u001b[0m)      │             \u001b[38;5;34m0\u001b[0m │\n",
       "├─────────────────────────────────┼────────────────────────┼───────────────┤\n",
       "│ conv2d_3 (\u001b[38;5;33mConv2D\u001b[0m)               │ (\u001b[38;5;45mNone\u001b[0m, \u001b[38;5;34m2\u001b[0m, \u001b[38;5;34m2\u001b[0m, \u001b[38;5;34m512\u001b[0m)      │     \u001b[38;5;34m1,180,160\u001b[0m │\n",
       "├─────────────────────────────────┼────────────────────────┼───────────────┤\n",
       "│ max_pooling2d_3 (\u001b[38;5;33mMaxPooling2D\u001b[0m)  │ (\u001b[38;5;45mNone\u001b[0m, \u001b[38;5;34m1\u001b[0m, \u001b[38;5;34m1\u001b[0m, \u001b[38;5;34m512\u001b[0m)      │             \u001b[38;5;34m0\u001b[0m │\n",
       "├─────────────────────────────────┼────────────────────────┼───────────────┤\n",
       "│ flatten (\u001b[38;5;33mFlatten\u001b[0m)               │ (\u001b[38;5;45mNone\u001b[0m, \u001b[38;5;34m512\u001b[0m)            │             \u001b[38;5;34m0\u001b[0m │\n",
       "├─────────────────────────────────┼────────────────────────┼───────────────┤\n",
       "│ dense (\u001b[38;5;33mDense\u001b[0m)                   │ (\u001b[38;5;45mNone\u001b[0m, \u001b[38;5;34m512\u001b[0m)            │       \u001b[38;5;34m262,656\u001b[0m │\n",
       "├─────────────────────────────────┼────────────────────────┼───────────────┤\n",
       "│ dropout (\u001b[38;5;33mDropout\u001b[0m)               │ (\u001b[38;5;45mNone\u001b[0m, \u001b[38;5;34m512\u001b[0m)            │             \u001b[38;5;34m0\u001b[0m │\n",
       "├─────────────────────────────────┼────────────────────────┼───────────────┤\n",
       "│ dense_1 (\u001b[38;5;33mDense\u001b[0m)                 │ (\u001b[38;5;45mNone\u001b[0m, \u001b[38;5;34m256\u001b[0m)            │       \u001b[38;5;34m131,328\u001b[0m │\n",
       "├─────────────────────────────────┼────────────────────────┼───────────────┤\n",
       "│ dropout_1 (\u001b[38;5;33mDropout\u001b[0m)             │ (\u001b[38;5;45mNone\u001b[0m, \u001b[38;5;34m256\u001b[0m)            │             \u001b[38;5;34m0\u001b[0m │\n",
       "├─────────────────────────────────┼────────────────────────┼───────────────┤\n",
       "│ dense_2 (\u001b[38;5;33mDense\u001b[0m)                 │ (\u001b[38;5;45mNone\u001b[0m, \u001b[38;5;34m1\u001b[0m)              │           \u001b[38;5;34m257\u001b[0m │\n",
       "└─────────────────────────────────┴────────────────────────┴───────────────┘\n"
      ]
     },
     "metadata": {},
     "output_type": "display_data"
    },
    {
     "data": {
      "text/html": [
       "<pre style=\"white-space:pre;overflow-x:auto;line-height:normal;font-family:Menlo,'DejaVu Sans Mono',consolas,'Courier New',monospace\"><span style=\"font-weight: bold\"> Total params: </span><span style=\"color: #00af00; text-decoration-color: #00af00\">1,945,217</span> (7.42 MB)\n",
       "</pre>\n"
      ],
      "text/plain": [
       "\u001b[1m Total params: \u001b[0m\u001b[38;5;34m1,945,217\u001b[0m (7.42 MB)\n"
      ]
     },
     "metadata": {},
     "output_type": "display_data"
    },
    {
     "data": {
      "text/html": [
       "<pre style=\"white-space:pre;overflow-x:auto;line-height:normal;font-family:Menlo,'DejaVu Sans Mono',consolas,'Courier New',monospace\"><span style=\"font-weight: bold\"> Trainable params: </span><span style=\"color: #00af00; text-decoration-color: #00af00\">1,945,217</span> (7.42 MB)\n",
       "</pre>\n"
      ],
      "text/plain": [
       "\u001b[1m Trainable params: \u001b[0m\u001b[38;5;34m1,945,217\u001b[0m (7.42 MB)\n"
      ]
     },
     "metadata": {},
     "output_type": "display_data"
    },
    {
     "data": {
      "text/html": [
       "<pre style=\"white-space:pre;overflow-x:auto;line-height:normal;font-family:Menlo,'DejaVu Sans Mono',consolas,'Courier New',monospace\"><span style=\"font-weight: bold\"> Non-trainable params: </span><span style=\"color: #00af00; text-decoration-color: #00af00\">0</span> (0.00 B)\n",
       "</pre>\n"
      ],
      "text/plain": [
       "\u001b[1m Non-trainable params: \u001b[0m\u001b[38;5;34m0\u001b[0m (0.00 B)\n"
      ]
     },
     "metadata": {},
     "output_type": "display_data"
    },
    {
     "name": "stdout",
     "output_type": "stream",
     "text": [
      "Epoch 1/50\n"
     ]
    },
    {
     "name": "stderr",
     "output_type": "stream",
     "text": [
      "/opt/conda/lib/python3.10/site-packages/keras/src/trainers/data_adapters/py_dataset_adapter.py:121: UserWarning: Your `PyDataset` class should call `super().__init__(**kwargs)` in its constructor. `**kwargs` can include `workers`, `use_multiprocessing`, `max_queue_size`. Do not pass these arguments to `fit()`, as they will be ignored.\n",
      "  self._warn_if_super_not_called()\n"
     ]
    },
    {
     "name": "stdout",
     "output_type": "stream",
     "text": [
      "\u001b[1m   21/17346\u001b[0m \u001b[37m━━━━━━━━━━━━━━━━━━━━\u001b[0m \u001b[1m2:21\u001b[0m 8ms/step - accuracy: 0.7005 - loss: 0.6360"
     ]
    },
    {
     "name": "stderr",
     "output_type": "stream",
     "text": [
      "WARNING: All log messages before absl::InitializeLog() is called are written to STDERR\n",
      "I0000 00:00:1719812658.202264      82 device_compiler.h:186] Compiled cluster using XLA!  This line is logged at most once for the lifetime of the process.\n",
      "W0000 00:00:1719812658.222822      82 graph_launch.cc:671] Fallback to op-by-op mode because memset node breaks graph update\n"
     ]
    },
    {
     "name": "stdout",
     "output_type": "stream",
     "text": [
      "\u001b[1m17346/17346\u001b[0m \u001b[32m━━━━━━━━━━━━━━━━━━━━\u001b[0m\u001b[37m\u001b[0m \u001b[1m0s\u001b[0m 9ms/step - accuracy: 0.8200 - loss: 0.4131"
     ]
    },
    {
     "name": "stderr",
     "output_type": "stream",
     "text": [
      "W0000 00:00:1719812811.536041      79 graph_launch.cc:671] Fallback to op-by-op mode because memset node breaks graph update\n"
     ]
    },
    {
     "name": "stdout",
     "output_type": "stream",
     "text": [
      "\u001b[1m17346/17346\u001b[0m \u001b[32m━━━━━━━━━━━━━━━━━━━━\u001b[0m\u001b[37m\u001b[0m \u001b[1m190s\u001b[0m 10ms/step - accuracy: 0.8200 - loss: 0.4131 - val_accuracy: 0.8603 - val_loss: 0.3296 - learning_rate: 1.0000e-04\n",
      "Epoch 2/50\n",
      "\u001b[1m17346/17346\u001b[0m \u001b[32m━━━━━━━━━━━━━━━━━━━━\u001b[0m\u001b[37m\u001b[0m \u001b[1m167s\u001b[0m 10ms/step - accuracy: 0.8587 - loss: 0.3336 - val_accuracy: 0.8736 - val_loss: 0.2974 - learning_rate: 1.0000e-04\n",
      "Epoch 3/50\n",
      "\u001b[1m17346/17346\u001b[0m \u001b[32m━━━━━━━━━━━━━━━━━━━━\u001b[0m\u001b[37m\u001b[0m \u001b[1m164s\u001b[0m 9ms/step - accuracy: 0.8675 - loss: 0.3132 - val_accuracy: 0.8798 - val_loss: 0.2879 - learning_rate: 1.0000e-04\n",
      "Epoch 4/50\n",
      "\u001b[1m17346/17346\u001b[0m \u001b[32m━━━━━━━━━━━━━━━━━━━━\u001b[0m\u001b[37m\u001b[0m \u001b[1m164s\u001b[0m 9ms/step - accuracy: 0.8747 - loss: 0.2987 - val_accuracy: 0.8709 - val_loss: 0.3100 - learning_rate: 1.0000e-04\n",
      "Epoch 5/50\n",
      "\u001b[1m17346/17346\u001b[0m \u001b[32m━━━━━━━━━━━━━━━━━━━━\u001b[0m\u001b[37m\u001b[0m \u001b[1m168s\u001b[0m 10ms/step - accuracy: 0.8794 - loss: 0.2881 - val_accuracy: 0.8907 - val_loss: 0.2672 - learning_rate: 1.0000e-04\n",
      "Epoch 6/50\n",
      "\u001b[1m17346/17346\u001b[0m \u001b[32m━━━━━━━━━━━━━━━━━━━━\u001b[0m\u001b[37m\u001b[0m \u001b[1m165s\u001b[0m 10ms/step - accuracy: 0.8851 - loss: 0.2763 - val_accuracy: 0.8954 - val_loss: 0.2546 - learning_rate: 1.0000e-04\n",
      "Epoch 7/50\n",
      "\u001b[1m17346/17346\u001b[0m \u001b[32m━━━━━━━━━━━━━━━━━━━━\u001b[0m\u001b[37m\u001b[0m \u001b[1m169s\u001b[0m 10ms/step - accuracy: 0.8896 - loss: 0.2673 - val_accuracy: 0.8976 - val_loss: 0.2490 - learning_rate: 1.0000e-04\n",
      "Epoch 8/50\n",
      "\u001b[1m17346/17346\u001b[0m \u001b[32m━━━━━━━━━━━━━━━━━━━━\u001b[0m\u001b[37m\u001b[0m \u001b[1m167s\u001b[0m 10ms/step - accuracy: 0.8964 - loss: 0.2546 - val_accuracy: 0.9078 - val_loss: 0.2284 - learning_rate: 1.0000e-04\n",
      "Epoch 9/50\n",
      "\u001b[1m17346/17346\u001b[0m \u001b[32m━━━━━━━━━━━━━━━━━━━━\u001b[0m\u001b[37m\u001b[0m \u001b[1m167s\u001b[0m 10ms/step - accuracy: 0.9005 - loss: 0.2420 - val_accuracy: 0.9126 - val_loss: 0.2155 - learning_rate: 1.0000e-04\n",
      "Epoch 10/50\n",
      "\u001b[1m17346/17346\u001b[0m \u001b[32m━━━━━━━━━━━━━━━━━━━━\u001b[0m\u001b[37m\u001b[0m \u001b[1m161s\u001b[0m 9ms/step - accuracy: 0.9076 - loss: 0.2266 - val_accuracy: 0.9152 - val_loss: 0.2121 - learning_rate: 1.0000e-04\n",
      "Epoch 11/50\n",
      "\u001b[1m17346/17346\u001b[0m \u001b[32m━━━━━━━━━━━━━━━━━━━━\u001b[0m\u001b[37m\u001b[0m \u001b[1m158s\u001b[0m 9ms/step - accuracy: 0.9146 - loss: 0.2125 - val_accuracy: 0.9168 - val_loss: 0.2041 - learning_rate: 1.0000e-04\n",
      "Epoch 12/50\n",
      "\u001b[1m17346/17346\u001b[0m \u001b[32m━━━━━━━━━━━━━━━━━━━━\u001b[0m\u001b[37m\u001b[0m \u001b[1m153s\u001b[0m 9ms/step - accuracy: 0.9218 - loss: 0.1961 - val_accuracy: 0.9319 - val_loss: 0.1769 - learning_rate: 1.0000e-04\n",
      "Epoch 13/50\n",
      "\u001b[1m17346/17346\u001b[0m \u001b[32m━━━━━━━━━━━━━━━━━━━━\u001b[0m\u001b[37m\u001b[0m \u001b[1m153s\u001b[0m 9ms/step - accuracy: 0.9302 - loss: 0.1785 - val_accuracy: 0.9443 - val_loss: 0.1503 - learning_rate: 1.0000e-04\n",
      "Epoch 14/50\n",
      "\u001b[1m17346/17346\u001b[0m \u001b[32m━━━━━━━━━━━━━━━━━━━━\u001b[0m\u001b[37m\u001b[0m \u001b[1m151s\u001b[0m 9ms/step - accuracy: 0.9362 - loss: 0.1645 - val_accuracy: 0.9395 - val_loss: 0.1560 - learning_rate: 1.0000e-04\n",
      "Epoch 15/50\n",
      "\u001b[1m17346/17346\u001b[0m \u001b[32m━━━━━━━━━━━━━━━━━━━━\u001b[0m\u001b[37m\u001b[0m \u001b[1m204s\u001b[0m 9ms/step - accuracy: 0.9416 - loss: 0.1518 - val_accuracy: 0.9598 - val_loss: 0.1093 - learning_rate: 1.0000e-04\n",
      "Epoch 16/50\n",
      "\u001b[1m17346/17346\u001b[0m \u001b[32m━━━━━━━━━━━━━━━━━━━━\u001b[0m\u001b[37m\u001b[0m \u001b[1m152s\u001b[0m 9ms/step - accuracy: 0.9482 - loss: 0.1382 - val_accuracy: 0.9601 - val_loss: 0.1077 - learning_rate: 1.0000e-04\n",
      "Epoch 17/50\n",
      "\u001b[1m17346/17346\u001b[0m \u001b[32m━━━━━━━━━━━━━━━━━━━━\u001b[0m\u001b[37m\u001b[0m \u001b[1m152s\u001b[0m 9ms/step - accuracy: 0.9540 - loss: 0.1211 - val_accuracy: 0.9610 - val_loss: 0.1072 - learning_rate: 1.0000e-04\n",
      "Epoch 18/50\n",
      "\u001b[1m17346/17346\u001b[0m \u001b[32m━━━━━━━━━━━━━━━━━━━━\u001b[0m\u001b[37m\u001b[0m \u001b[1m153s\u001b[0m 9ms/step - accuracy: 0.9575 - loss: 0.2144 - val_accuracy: 0.9704 - val_loss: 0.0811 - learning_rate: 1.0000e-04\n",
      "Epoch 19/50\n",
      "\u001b[1m17346/17346\u001b[0m \u001b[32m━━━━━━━━━━━━━━━━━━━━\u001b[0m\u001b[37m\u001b[0m \u001b[1m152s\u001b[0m 9ms/step - accuracy: 0.9627 - loss: 0.0996 - val_accuracy: 0.9694 - val_loss: 0.0812 - learning_rate: 1.0000e-04\n",
      "Epoch 20/50\n",
      "\u001b[1m17346/17346\u001b[0m \u001b[32m━━━━━━━━━━━━━━━━━━━━\u001b[0m\u001b[37m\u001b[0m \u001b[1m152s\u001b[0m 9ms/step - accuracy: 0.9655 - loss: 0.0912 - val_accuracy: 0.9741 - val_loss: 0.0688 - learning_rate: 1.0000e-04\n",
      "Epoch 21/50\n",
      "\u001b[1m17346/17346\u001b[0m \u001b[32m━━━━━━━━━━━━━━━━━━━━\u001b[0m\u001b[37m\u001b[0m \u001b[1m155s\u001b[0m 9ms/step - accuracy: 0.9684 - loss: 0.0848 - val_accuracy: 0.9800 - val_loss: 0.0584 - learning_rate: 1.0000e-04\n",
      "Epoch 22/50\n",
      "\u001b[1m17346/17346\u001b[0m \u001b[32m━━━━━━━━━━━━━━━━━━━━\u001b[0m\u001b[37m\u001b[0m \u001b[1m152s\u001b[0m 9ms/step - accuracy: 0.9719 - loss: 0.0797 - val_accuracy: 0.9774 - val_loss: 0.0643 - learning_rate: 1.0000e-04\n",
      "Epoch 23/50\n",
      "\u001b[1m17346/17346\u001b[0m \u001b[32m━━━━━━━━━━━━━━━━━━━━\u001b[0m\u001b[37m\u001b[0m \u001b[1m153s\u001b[0m 9ms/step - accuracy: 0.9729 - loss: 0.0715 - val_accuracy: 0.9788 - val_loss: 0.0579 - learning_rate: 1.0000e-04\n",
      "Epoch 24/50\n",
      "\u001b[1m17346/17346\u001b[0m \u001b[32m━━━━━━━━━━━━━━━━━━━━\u001b[0m\u001b[37m\u001b[0m \u001b[1m152s\u001b[0m 9ms/step - accuracy: 0.9763 - loss: 0.0652 - val_accuracy: 0.9819 - val_loss: 0.0490 - learning_rate: 1.0000e-04\n",
      "Epoch 25/50\n",
      "\u001b[1m17346/17346\u001b[0m \u001b[32m━━━━━━━━━━━━━━━━━━━━\u001b[0m\u001b[37m\u001b[0m \u001b[1m152s\u001b[0m 9ms/step - accuracy: 0.9775 - loss: 0.0623 - val_accuracy: 0.9836 - val_loss: 0.0469 - learning_rate: 1.0000e-04\n",
      "Epoch 26/50\n",
      "\u001b[1m17346/17346\u001b[0m \u001b[32m━━━━━━━━━━━━━━━━━━━━\u001b[0m\u001b[37m\u001b[0m \u001b[1m152s\u001b[0m 9ms/step - accuracy: 0.9797 - loss: 0.0562 - val_accuracy: 0.9876 - val_loss: 0.0401 - learning_rate: 1.0000e-04\n",
      "Epoch 27/50\n",
      "\u001b[1m17346/17346\u001b[0m \u001b[32m━━━━━━━━━━━━━━━━━━━━\u001b[0m\u001b[37m\u001b[0m \u001b[1m152s\u001b[0m 9ms/step - accuracy: 0.9782 - loss: 0.0723 - val_accuracy: 0.9787 - val_loss: 0.0597 - learning_rate: 1.0000e-04\n",
      "Epoch 28/50\n",
      "\u001b[1m17346/17346\u001b[0m \u001b[32m━━━━━━━━━━━━━━━━━━━━\u001b[0m\u001b[37m\u001b[0m \u001b[1m152s\u001b[0m 9ms/step - accuracy: 0.9809 - loss: 0.0522 - val_accuracy: 0.9790 - val_loss: 0.0536 - learning_rate: 1.0000e-04\n",
      "Epoch 29/50\n",
      "\u001b[1m17346/17346\u001b[0m \u001b[32m━━━━━━━━━━━━━━━━━━━━\u001b[0m\u001b[37m\u001b[0m \u001b[1m155s\u001b[0m 9ms/step - accuracy: 0.9833 - loss: 0.0460 - val_accuracy: 0.9886 - val_loss: 0.0330 - learning_rate: 1.0000e-04\n",
      "Epoch 30/50\n",
      "\u001b[1m17346/17346\u001b[0m \u001b[32m━━━━━━━━━━━━━━━━━━━━\u001b[0m\u001b[37m\u001b[0m \u001b[1m151s\u001b[0m 9ms/step - accuracy: 0.9839 - loss: 0.0458 - val_accuracy: 0.9884 - val_loss: 0.0345 - learning_rate: 1.0000e-04\n",
      "Epoch 31/50\n",
      "\u001b[1m17346/17346\u001b[0m \u001b[32m━━━━━━━━━━━━━━━━━━━━\u001b[0m\u001b[37m\u001b[0m \u001b[1m203s\u001b[0m 9ms/step - accuracy: 0.9843 - loss: 0.0446 - val_accuracy: 0.9865 - val_loss: 0.0368 - learning_rate: 1.0000e-04\n",
      "Epoch 32/50\n",
      "\u001b[1m17346/17346\u001b[0m \u001b[32m━━━━━━━━━━━━━━━━━━━━\u001b[0m\u001b[37m\u001b[0m \u001b[1m151s\u001b[0m 9ms/step - accuracy: 0.9851 - loss: 0.0423 - val_accuracy: 0.9916 - val_loss: 0.0280 - learning_rate: 1.0000e-04\n",
      "Epoch 33/50\n",
      "\u001b[1m17346/17346\u001b[0m \u001b[32m━━━━━━━━━━━━━━━━━━━━\u001b[0m\u001b[37m\u001b[0m \u001b[1m152s\u001b[0m 9ms/step - accuracy: 0.9862 - loss: 0.0388 - val_accuracy: 0.9898 - val_loss: 0.0291 - learning_rate: 1.0000e-04\n",
      "Epoch 34/50\n",
      "\u001b[1m17346/17346\u001b[0m \u001b[32m━━━━━━━━━━━━━━━━━━━━\u001b[0m\u001b[37m\u001b[0m \u001b[1m204s\u001b[0m 9ms/step - accuracy: 0.9871 - loss: 0.0365 - val_accuracy: 0.9905 - val_loss: 0.0281 - learning_rate: 1.0000e-04\n",
      "Epoch 35/50\n",
      "\u001b[1m17346/17346\u001b[0m \u001b[32m━━━━━━━━━━━━━━━━━━━━\u001b[0m\u001b[37m\u001b[0m \u001b[1m151s\u001b[0m 9ms/step - accuracy: 0.9874 - loss: 0.0354 - val_accuracy: 0.9915 - val_loss: 0.0247 - learning_rate: 1.0000e-04\n",
      "Epoch 36/50\n",
      "\u001b[1m17346/17346\u001b[0m \u001b[32m━━━━━━━━━━━━━━━━━━━━\u001b[0m\u001b[37m\u001b[0m \u001b[1m151s\u001b[0m 9ms/step - accuracy: 0.9870 - loss: 0.0426 - val_accuracy: 0.9849 - val_loss: 0.0421 - learning_rate: 1.0000e-04\n",
      "Epoch 37/50\n",
      "\u001b[1m17346/17346\u001b[0m \u001b[32m━━━━━━━━━━━━━━━━━━━━\u001b[0m\u001b[37m\u001b[0m \u001b[1m155s\u001b[0m 9ms/step - accuracy: 0.9883 - loss: 0.0328 - val_accuracy: 0.9870 - val_loss: 0.0333 - learning_rate: 1.0000e-04\n",
      "Epoch 38/50\n",
      "\u001b[1m17346/17346\u001b[0m \u001b[32m━━━━━━━━━━━━━━━━━━━━\u001b[0m\u001b[37m\u001b[0m \u001b[1m151s\u001b[0m 9ms/step - accuracy: 0.9885 - loss: 0.0339 - val_accuracy: 0.9922 - val_loss: 0.0232 - learning_rate: 1.0000e-04\n",
      "Epoch 39/50\n",
      "\u001b[1m17346/17346\u001b[0m \u001b[32m━━━━━━━━━━━━━━━━━━━━\u001b[0m\u001b[37m\u001b[0m \u001b[1m153s\u001b[0m 9ms/step - accuracy: 0.9894 - loss: 0.0307 - val_accuracy: 0.9932 - val_loss: 0.0200 - learning_rate: 1.0000e-04\n",
      "Epoch 40/50\n",
      "\u001b[1m17346/17346\u001b[0m \u001b[32m━━━━━━━━━━━━━━━━━━━━\u001b[0m\u001b[37m\u001b[0m \u001b[1m152s\u001b[0m 9ms/step - accuracy: 0.9894 - loss: 0.0315 - val_accuracy: 0.9957 - val_loss: 0.0150 - learning_rate: 1.0000e-04\n",
      "Epoch 41/50\n",
      "\u001b[1m17346/17346\u001b[0m \u001b[32m━━━━━━━━━━━━━━━━━━━━\u001b[0m\u001b[37m\u001b[0m \u001b[1m152s\u001b[0m 9ms/step - accuracy: 0.9897 - loss: 0.0303 - val_accuracy: 0.9943 - val_loss: 0.0203 - learning_rate: 1.0000e-04\n",
      "Epoch 42/50\n",
      "\u001b[1m17346/17346\u001b[0m \u001b[32m━━━━━━━━━━━━━━━━━━━━\u001b[0m\u001b[37m\u001b[0m \u001b[1m154s\u001b[0m 9ms/step - accuracy: 0.9897 - loss: 0.0313 - val_accuracy: 0.9939 - val_loss: 0.0190 - learning_rate: 1.0000e-04\n",
      "Epoch 43/50\n",
      "\u001b[1m17346/17346\u001b[0m \u001b[32m━━━━━━━━━━━━━━━━━━━━\u001b[0m\u001b[37m\u001b[0m \u001b[1m152s\u001b[0m 9ms/step - accuracy: 0.9898 - loss: 0.0305 - val_accuracy: 0.9806 - val_loss: 0.0604 - learning_rate: 1.0000e-04\n",
      "Epoch 44/50\n",
      "\u001b[1m17346/17346\u001b[0m \u001b[32m━━━━━━━━━━━━━━━━━━━━\u001b[0m\u001b[37m\u001b[0m \u001b[1m155s\u001b[0m 9ms/step - accuracy: 0.9908 - loss: 0.0264 - val_accuracy: 0.9929 - val_loss: 0.0208 - learning_rate: 1.0000e-04\n",
      "Epoch 45/50\n",
      "\u001b[1m17337/17346\u001b[0m \u001b[32m━━━━━━━━━━━━━━━━━━━\u001b[0m\u001b[37m━\u001b[0m \u001b[1m0s\u001b[0m 8ms/step - accuracy: 0.9909 - loss: 0.0264\n",
      "Epoch 45: ReduceLROnPlateau reducing learning rate to 1.9999999494757503e-05.\n",
      "\u001b[1m17346/17346\u001b[0m \u001b[32m━━━━━━━━━━━━━━━━━━━━\u001b[0m\u001b[37m\u001b[0m \u001b[1m158s\u001b[0m 9ms/step - accuracy: 0.9909 - loss: 0.0264 - val_accuracy: 0.9886 - val_loss: 0.0373 - learning_rate: 1.0000e-04\n",
      "Epoch 46/50\n",
      "\u001b[1m17346/17346\u001b[0m \u001b[32m━━━━━━━━━━━━━━━━━━━━\u001b[0m\u001b[37m\u001b[0m \u001b[1m151s\u001b[0m 9ms/step - accuracy: 0.9981 - loss: 0.0072 - val_accuracy: 0.9993 - val_loss: 0.0022 - learning_rate: 2.0000e-05\n",
      "Epoch 47/50\n",
      "\u001b[1m17346/17346\u001b[0m \u001b[32m━━━━━━━━━━━━━━━━━━━━\u001b[0m\u001b[37m\u001b[0m \u001b[1m152s\u001b[0m 9ms/step - accuracy: 0.9994 - loss: 0.0036 - val_accuracy: 0.9996 - val_loss: 0.0014 - learning_rate: 2.0000e-05\n",
      "Epoch 48/50\n",
      "\u001b[1m17346/17346\u001b[0m \u001b[32m━━━━━━━━━━━━━━━━━━━━\u001b[0m\u001b[37m\u001b[0m \u001b[1m155s\u001b[0m 9ms/step - accuracy: 0.9993 - loss: 0.0020 - val_accuracy: 0.9996 - val_loss: 0.0011 - learning_rate: 2.0000e-05\n",
      "Epoch 49/50\n",
      "\u001b[1m17346/17346\u001b[0m \u001b[32m━━━━━━━━━━━━━━━━━━━━\u001b[0m\u001b[37m\u001b[0m \u001b[1m155s\u001b[0m 9ms/step - accuracy: 0.9994 - loss: 0.0039 - val_accuracy: 0.9995 - val_loss: 0.0014 - learning_rate: 2.0000e-05\n",
      "Epoch 50/50\n",
      "\u001b[1m17346/17346\u001b[0m \u001b[32m━━━━━━━━━━━━━━━━━━━━\u001b[0m\u001b[37m\u001b[0m \u001b[1m155s\u001b[0m 9ms/step - accuracy: 0.9992 - loss: 0.0024 - val_accuracy: 0.9998 - val_loss: 0.0026 - learning_rate: 2.0000e-05\n",
      "Restoring model weights from the end of the best epoch: 48.\n"
     ]
    }
   ],
   "source": [
    "model,callbacks=create_model((50,50,3))\n",
    "model.summary()\n",
    "#Fit model\n",
    "history = model.fit(\n",
    "      train_generator,\n",
    "      epochs=50,\n",
    "      verbose=1,\n",
    "      validation_data = validation_generator,callbacks=callbacks)"
   ]
  },
  {
   "cell_type": "code",
   "execution_count": 12,
   "id": "89c1e134",
   "metadata": {
    "execution": {
     "iopub.execute_input": "2024-07-01T07:57:07.500795Z",
     "iopub.status.busy": "2024-07-01T07:57:07.500431Z",
     "iopub.status.idle": "2024-07-01T07:57:07.770103Z",
     "shell.execute_reply": "2024-07-01T07:57:07.769222Z"
    },
    "papermill": {
     "duration": 10.81319,
     "end_time": "2024-07-01T07:57:07.772351",
     "exception": false,
     "start_time": "2024-07-01T07:56:56.959161",
     "status": "completed"
    },
    "tags": []
   },
   "outputs": [
    {
     "data": {
      "image/png": "[encoded data removed]",
      "text/plain": [
       "<Figure size 640x480 with 1 Axes>"
      ]
     },
     "metadata": {},
     "output_type": "display_data"
    }
   ],
   "source": [
    "import matplotlib.pyplot as plt\n",
    "\n",
    "acc = history.history['accuracy']\n",
    "val_acc = history.history['val_accuracy']\n",
    "loss = history.history['loss']\n",
    "val_loss = history.history['val_loss']\n",
    "\n",
    "epochs = range(len(acc))\n",
    "plt.plot(epochs, acc, 'r', label='Training accuracy', markersize=5)\n",
    "plt.plot(epochs, val_acc, 'b', label='Validation accuracy', markersize=5)\n",
    "plt.grid(True)\n",
    "plt.xlabel('Epochs', fontsize=12, fontweight='bold')  # Bold and increase font size for x-axis label\n",
    "plt.ylabel('Accuracy', fontsize=12, fontweight='bold')  # Bold and increase font size for y-axis label\n",
    "plt.legend(loc='lower right')\n",
    "plt.show()"
   ]
  },
  {
   "cell_type": "code",
   "execution_count": 13,
   "id": "3e35a32c",
   "metadata": {
    "execution": {
     "iopub.execute_input": "2024-07-01T07:57:28.850131Z",
     "iopub.status.busy": "2024-07-01T07:57:28.849312Z",
     "iopub.status.idle": "2024-07-01T07:57:29.121596Z",
     "shell.execute_reply": "2024-07-01T07:57:29.120640Z"
    },
    "papermill": {
     "duration": 10.695685,
     "end_time": "2024-07-01T07:57:29.123864",
     "exception": false,
     "start_time": "2024-07-01T07:57:18.428179",
     "status": "completed"
    },
    "tags": []
   },
   "outputs": [
    {
     "data": {
      "image/png": "[encoded data removed]",
      "text/plain": [
       "<Figure size 640x480 with 1 Axes>"
      ]
     },
     "metadata": {},
     "output_type": "display_data"
    }
   ],
   "source": [
    "plt.plot(epochs, loss, 'r', label='Training loss', markersize=5)  # Increase markersize\n",
    "plt.plot(epochs, val_loss, 'b', label='Validation loss', markersize=5)  # Increase markersize\n",
    "plt.xlabel('Epochs', fontsize=12, fontweight='bold')  # Bold and increase font size for x-axis label\n",
    "plt.ylabel('Accuracy', fontsize=12, fontweight='bold')  # Bold and increase font size for y-axis label\n",
    "plt.grid(True)  # Turn on grid\n",
    "plt.legend(loc=0)\n",
    "plt.show()"
   ]
  }
 ],
 "metadata": {
  "kaggle": {
   "accelerator": "gpu",
   "dataSources": [
    {
     "datasetId": 7415,
     "sourceId": 10564,
     "sourceType": "datasetVersion"
    }
   ],
   "dockerImageVersionId": 30733,
   "isGpuEnabled": true,
   "isInternetEnabled": true,
   "language": "python",
   "sourceType": "notebook"
  },
  "kernelspec": {
   "display_name": "Python 3",
   "language": "python",
   "name": "python3"
  },
  "language_info": {
   "codemirror_mode": {
    "name": "ipython",
    "version": 3
   },
   "file_extension": ".py",
   "mimetype": "text/x-python",
   "name": "python",
   "nbconvert_exporter": "python",
   "pygments_lexer": "ipython3",
   "version": "3.10.13"
  },
  "papermill": {
   "default_parameters": {},
   "duration": 10204.488474,
   "end_time": "2024-07-01T07:57:41.849485",
   "environment_variables": {},
   "exception": null,
   "input_path": "__notebook__.ipynb",
   "output_path": "__notebook__.ipynb",
   "parameters": {},
   "start_time": "2024-07-01T05:07:37.361011",
   "version": "2.5.0"
  }
 },
 "nbformat": 4,
 "nbformat_minor": 5
}
