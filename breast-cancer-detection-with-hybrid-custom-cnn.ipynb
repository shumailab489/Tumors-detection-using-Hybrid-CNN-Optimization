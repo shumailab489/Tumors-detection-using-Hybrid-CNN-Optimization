{
 "cells": [
  {
   "cell_type": "code",
   "execution_count": 1,
   "id": "1af51177",
   "metadata": {
    "_cell_guid": "b1076dfc-b9ad-4769-8c92-a6c4dae69d19",
    "_uuid": "8f2839f25d086af736a60e9eeb907d3b93b6e0e5",
    "execution": {
     "iopub.execute_input": "2025-03-02T14:28:55.318913Z",
     "iopub.status.busy": "2025-03-02T14:28:55.318617Z",
     "iopub.status.idle": "2025-03-02T14:29:02.496135Z",
     "shell.execute_reply": "2025-03-02T14:29:02.495027Z"
    },
    "papermill": {
     "duration": 7.185396,
     "end_time": "2025-03-02T14:29:02.499140",
     "exception": false,
     "start_time": "2025-03-02T14:28:55.313744",
     "status": "completed"
    },
    "tags": []
   },
   "outputs": [],
   "source": [
    "\n",
    "import numpy as np # linear algebra\n",
    "import pandas as pd # data processing, CSV file I/O (e.g. pd.read_csv)\n",
    "\n",
    "\n",
    "\n",
    "import os\n",
    "import shutil\n",
    "import glob\n",
    "import random\n",
    "from tensorflow.keras.preprocessing.image import ImageDataGenerator\n",
    "import tensorflow as tf\n"
   ]
  },
  {
   "cell_type": "code",
   "execution_count": 2,
   "id": "0d4fcc61",
   "metadata": {
    "execution": {
     "iopub.execute_input": "2025-03-02T14:29:02.511738Z",
     "iopub.status.busy": "2025-03-02T14:29:02.510784Z",
     "iopub.status.idle": "2025-03-02T14:29:02.519401Z",
     "shell.execute_reply": "2025-03-02T14:29:02.518388Z"
    },
    "papermill": {
     "duration": 0.016509,
     "end_time": "2025-03-02T14:29:02.521236",
     "exception": false,
     "start_time": "2025-03-02T14:29:02.504727",
     "status": "completed"
    },
    "tags": []
   },
   "outputs": [],
   "source": [
    "def create_data_path(base_path,input_path):\n",
    "    try:\n",
    "        os.makedirs(os.path.join(base_path,'training'))\n",
    "        os.makedirs(os.path.join(base_path, 'training/0'))\n",
    "        os.makedirs(os.path.join(base_path, 'training/1'))\n",
    "        os.makedirs(os.path.join(base_path,'validation'))\n",
    "        os.makedirs(os.path.join(base_path, 'validation/1'))\n",
    "        os.makedirs(os.path.join(base_path, 'validation/0'))\n",
    "    except:\n",
    "        print(\"Le folder esistono già\")\n",
    "    list_dir=glob.glob(os.path.join(input_path,'*'))\n",
    "    print(list_dir)\n",
    "    for id in list_dir:\n",
    "        list_file_0=glob.glob(os.path.join(id,'0/*'))\n",
    "        list_file_1= glob.glob(os.path.join(id, '1/*'))\n",
    "        for file_0 in list_file_0:\n",
    "            src_path = file_0\n",
    "            dst_path = os.path.join(os.path.join(base_path, 'training/0'), os.path.basename(file_0))\n",
    "            shutil.copy(src_path, dst_path)\n",
    "\n",
    "        for file_1 in list_file_1:\n",
    "            src_path = file_1\n",
    "            dst_path = os.path.join(os.path.join(base_path, 'training/1'), os.path.basename(file_1))\n",
    "            shutil.copy(src_path, dst_path)\n"
   ]
  },
  {
   "cell_type": "code",
   "execution_count": 3,
   "id": "92b4d105",
   "metadata": {
    "execution": {
     "iopub.execute_input": "2025-03-02T14:29:02.528580Z",
     "iopub.status.busy": "2025-03-02T14:29:02.527827Z",
     "iopub.status.idle": "2025-03-02T14:29:02.533694Z",
     "shell.execute_reply": "2025-03-02T14:29:02.532814Z"
    },
    "papermill": {
     "duration": 0.011656,
     "end_time": "2025-03-02T14:29:02.535655",
     "exception": false,
     "start_time": "2025-03-02T14:29:02.523999",
     "status": "completed"
    },
    "tags": []
   },
   "outputs": [],
   "source": [
    "def remove_dir(base_path):\n",
    "    try:\n",
    "        shutil.rmtree(os.path.join(base_path,'training'))\n",
    "        shutil.rmtree(os.path.join(base_path,'validation'))\n",
    "    except Exception as e:\n",
    "        print(\"Problema nella rimozione delle dirs\")\n",
    "        print(str(e))"
   ]
  },
  {
   "cell_type": "code",
   "execution_count": 4,
   "id": "250d0d1f",
   "metadata": {
    "execution": {
     "iopub.execute_input": "2025-03-02T14:29:02.542253Z",
     "iopub.status.busy": "2025-03-02T14:29:02.541980Z",
     "iopub.status.idle": "2025-03-02T14:29:02.546787Z",
     "shell.execute_reply": "2025-03-02T14:29:02.545886Z"
    },
    "papermill": {
     "duration": 0.010738,
     "end_time": "2025-03-02T14:29:02.549167",
     "exception": false,
     "start_time": "2025-03-02T14:29:02.538429",
     "status": "completed"
    },
    "tags": []
   },
   "outputs": [
    {
     "name": "stdout",
     "output_type": "stream",
     "text": [
      "Problema nella rimozione delle dirs\n",
      "[Errno 2] No such file or directory: '/kaggle/working/training'\n"
     ]
    }
   ],
   "source": [
    "#for cleanup\n",
    "remove_dir('/kaggle/working/')"
   ]
  },
  {
   "cell_type": "code",
   "execution_count": 5,
   "id": "19f4ce32",
   "metadata": {
    "execution": {
     "iopub.execute_input": "2025-03-02T14:29:02.560989Z",
     "iopub.status.busy": "2025-03-02T14:29:02.560491Z",
     "iopub.status.idle": "2025-03-02T15:09:41.115447Z",
     "shell.execute_reply": "2025-03-02T15:09:41.114169Z"
    },
    "papermill": {
     "duration": 2438.56373,
     "end_time": "2025-03-02T15:09:41.118424",
     "exception": false,
     "start_time": "2025-03-02T14:29:02.554694",
     "status": "completed"
    },
    "tags": []
   },
   "outputs": [
    {
     "name": "stdout",
     "output_type": "stream",
     "text": [
      "['/kaggle/input/breast-histopathology-images/10295', '/kaggle/input/breast-histopathology-images/10304', '/kaggle/input/breast-histopathology-images/12868', '/kaggle/input/breast-histopathology-images/10274', '/kaggle/input/breast-histopathology-images/12818', '/kaggle/input/breast-histopathology-images/14190', '/kaggle/input/breast-histopathology-images/12869', '/kaggle/input/breast-histopathology-images/9323', '/kaggle/input/breast-histopathology-images/10291', '/kaggle/input/breast-histopathology-images/12906', '/kaggle/input/breast-histopathology-images/9176', '/kaggle/input/breast-histopathology-images/8984', '/kaggle/input/breast-histopathology-images/10299', '/kaggle/input/breast-histopathology-images/12930', '/kaggle/input/breast-histopathology-images/9344', '/kaggle/input/breast-histopathology-images/12935', '/kaggle/input/breast-histopathology-images/12894', '/kaggle/input/breast-histopathology-images/12909', '/kaggle/input/breast-histopathology-images/9381', '/kaggle/input/breast-histopathology-images/9346', '/kaggle/input/breast-histopathology-images/9175', '/kaggle/input/breast-histopathology-images/10262', '/kaggle/input/breast-histopathology-images/8980', '/kaggle/input/breast-histopathology-images/16896', '/kaggle/input/breast-histopathology-images/12241', '/kaggle/input/breast-histopathology-images/12910', '/kaggle/input/breast-histopathology-images/13617', '/kaggle/input/breast-histopathology-images/13401', '/kaggle/input/breast-histopathology-images/12891', '/kaggle/input/breast-histopathology-images/10300', '/kaggle/input/breast-histopathology-images/9076', '/kaggle/input/breast-histopathology-images/10259', '/kaggle/input/breast-histopathology-images/9124', '/kaggle/input/breast-histopathology-images/13402', '/kaggle/input/breast-histopathology-images/12870', '/kaggle/input/breast-histopathology-images/16550', '/kaggle/input/breast-histopathology-images/10255', '/kaggle/input/breast-histopathology-images/9261', '/kaggle/input/breast-histopathology-images/15471', '/kaggle/input/breast-histopathology-images/12931', '/kaggle/input/breast-histopathology-images/12955', '/kaggle/input/breast-histopathology-images/10258', '/kaggle/input/breast-histopathology-images/13461', '/kaggle/input/breast-histopathology-images/13023', '/kaggle/input/breast-histopathology-images/9260', '/kaggle/input/breast-histopathology-images/8957', '/kaggle/input/breast-histopathology-images/9035', '/kaggle/input/breast-histopathology-images/10268', '/kaggle/input/breast-histopathology-images/13403', '/kaggle/input/breast-histopathology-images/10288', '/kaggle/input/breast-histopathology-images/9262', '/kaggle/input/breast-histopathology-images/12911', '/kaggle/input/breast-histopathology-images/9319', '/kaggle/input/breast-histopathology-images/10254', '/kaggle/input/breast-histopathology-images/13616', '/kaggle/input/breast-histopathology-images/10253', '/kaggle/input/breast-histopathology-images/8974', '/kaggle/input/breast-histopathology-images/9135', '/kaggle/input/breast-histopathology-images/10257', '/kaggle/input/breast-histopathology-images/9291', '/kaggle/input/breast-histopathology-images/9320', '/kaggle/input/breast-histopathology-images/14209', '/kaggle/input/breast-histopathology-images/14078', '/kaggle/input/breast-histopathology-images/12749', '/kaggle/input/breast-histopathology-images/9043', '/kaggle/input/breast-histopathology-images/9041', '/kaggle/input/breast-histopathology-images/8975', '/kaggle/input/breast-histopathology-images/9075', '/kaggle/input/breast-histopathology-images/13025', '/kaggle/input/breast-histopathology-images/13021', '/kaggle/input/breast-histopathology-images/13458', '/kaggle/input/breast-histopathology-images/12901', '/kaggle/input/breast-histopathology-images/16552', '/kaggle/input/breast-histopathology-images/13688', '/kaggle/input/breast-histopathology-images/15902', '/kaggle/input/breast-histopathology-images/13692', '/kaggle/input/breast-histopathology-images/12879', '/kaggle/input/breast-histopathology-images/9073', '/kaggle/input/breast-histopathology-images/15514', '/kaggle/input/breast-histopathology-images/9325', '/kaggle/input/breast-histopathology-images/10277', '/kaggle/input/breast-histopathology-images/12810', '/kaggle/input/breast-histopathology-images/8864', '/kaggle/input/breast-histopathology-images/8917', '/kaggle/input/breast-histopathology-images/14305', '/kaggle/input/breast-histopathology-images/16167', '/kaggle/input/breast-histopathology-images/13022', '/kaggle/input/breast-histopathology-images/16555', '/kaggle/input/breast-histopathology-images/12932', '/kaggle/input/breast-histopathology-images/14189', '/kaggle/input/breast-histopathology-images/8867', '/kaggle/input/breast-histopathology-images/16166', '/kaggle/input/breast-histopathology-images/10290', '/kaggle/input/breast-histopathology-images/9083', '/kaggle/input/breast-histopathology-images/15840', '/kaggle/input/breast-histopathology-images/12907', '/kaggle/input/breast-histopathology-images/12880', '/kaggle/input/breast-histopathology-images/12908', '/kaggle/input/breast-histopathology-images/13693', '/kaggle/input/breast-histopathology-images/13591', '/kaggle/input/breast-histopathology-images/15516', '/kaggle/input/breast-histopathology-images/9228', '/kaggle/input/breast-histopathology-images/14192', '/kaggle/input/breast-histopathology-images/12949', '/kaggle/input/breast-histopathology-images/10306', '/kaggle/input/breast-histopathology-images/9345', '/kaggle/input/breast-histopathology-images/14156', '/kaggle/input/breast-histopathology-images/12872', '/kaggle/input/breast-histopathology-images/9123', '/kaggle/input/breast-histopathology-images/13019', '/kaggle/input/breast-histopathology-images/9226', '/kaggle/input/breast-histopathology-images/14304', '/kaggle/input/breast-histopathology-images/10260', '/kaggle/input/breast-histopathology-images/14154', '/kaggle/input/breast-histopathology-images/15472', '/kaggle/input/breast-histopathology-images/15903', '/kaggle/input/breast-histopathology-images/12826', '/kaggle/input/breast-histopathology-images/13020', '/kaggle/input/breast-histopathology-images/16569', '/kaggle/input/breast-histopathology-images/14191', '/kaggle/input/breast-histopathology-images/16568', '/kaggle/input/breast-histopathology-images/16570', '/kaggle/input/breast-histopathology-images/13459', '/kaggle/input/breast-histopathology-images/8956', '/kaggle/input/breast-histopathology-images/13106', '/kaggle/input/breast-histopathology-images/10261', '/kaggle/input/breast-histopathology-images/9023', '/kaggle/input/breast-histopathology-images/13460', '/kaggle/input/breast-histopathology-images/16532', '/kaggle/input/breast-histopathology-images/12819', '/kaggle/input/breast-histopathology-images/12867', '/kaggle/input/breast-histopathology-images/8959', '/kaggle/input/breast-histopathology-images/9265', '/kaggle/input/breast-histopathology-images/9255', '/kaggle/input/breast-histopathology-images/14082', '/kaggle/input/breast-histopathology-images/12929', '/kaggle/input/breast-histopathology-images/8914', '/kaggle/input/breast-histopathology-images/9383', '/kaggle/input/breast-histopathology-images/14210', '/kaggle/input/breast-histopathology-images/10302', '/kaggle/input/breast-histopathology-images/12822', '/kaggle/input/breast-histopathology-images/10276', '/kaggle/input/breast-histopathology-images/10279', '/kaggle/input/breast-histopathology-images/12876', '/kaggle/input/breast-histopathology-images/10269', '/kaggle/input/breast-histopathology-images/8865', '/kaggle/input/breast-histopathology-images/13400', '/kaggle/input/breast-histopathology-images/12948', '/kaggle/input/breast-histopathology-images/12748', '/kaggle/input/breast-histopathology-images/9126', '/kaggle/input/breast-histopathology-images/9266', '/kaggle/input/breast-histopathology-images/9177', '/kaggle/input/breast-histopathology-images/8955', '/kaggle/input/breast-histopathology-images/12900', '/kaggle/input/breast-histopathology-images/9181', '/kaggle/input/breast-histopathology-images/9257', '/kaggle/input/breast-histopathology-images/9322', '/kaggle/input/breast-histopathology-images/12751', '/kaggle/input/breast-histopathology-images/9081', '/kaggle/input/breast-histopathology-images/15634', '/kaggle/input/breast-histopathology-images/10286', '/kaggle/input/breast-histopathology-images/14213', '/kaggle/input/breast-histopathology-images/9256', '/kaggle/input/breast-histopathology-images/10308', '/kaggle/input/breast-histopathology-images/16165', '/kaggle/input/breast-histopathology-images/12823', '/kaggle/input/breast-histopathology-images/9225', '/kaggle/input/breast-histopathology-images/9227', '/kaggle/input/breast-histopathology-images/16551', '/kaggle/input/breast-histopathology-images/13613', '/kaggle/input/breast-histopathology-images/14306', '/kaggle/input/breast-histopathology-images/16085', '/kaggle/input/breast-histopathology-images/16534', '/kaggle/input/breast-histopathology-images/14188', '/kaggle/input/breast-histopathology-images/14212', '/kaggle/input/breast-histopathology-images/12824', '/kaggle/input/breast-histopathology-images/16554', '/kaggle/input/breast-histopathology-images/13691', '/kaggle/input/breast-histopathology-images/13916', '/kaggle/input/breast-histopathology-images/12877', '/kaggle/input/breast-histopathology-images/13024', '/kaggle/input/breast-histopathology-images/10264', '/kaggle/input/breast-histopathology-images/12884', '/kaggle/input/breast-histopathology-images/12750', '/kaggle/input/breast-histopathology-images/14081', '/kaggle/input/breast-histopathology-images/15473', '/kaggle/input/breast-histopathology-images/15839', '/kaggle/input/breast-histopathology-images/12896', '/kaggle/input/breast-histopathology-images/9267', '/kaggle/input/breast-histopathology-images/10278', '/kaggle/input/breast-histopathology-images/16533', '/kaggle/input/breast-histopathology-images/13404', '/kaggle/input/breast-histopathology-images/12893', '/kaggle/input/breast-histopathology-images/12892', '/kaggle/input/breast-histopathology-images/9125', '/kaggle/input/breast-histopathology-images/9029', '/kaggle/input/breast-histopathology-images/14211', '/kaggle/input/breast-histopathology-images/12626', '/kaggle/input/breast-histopathology-images/10275', '/kaggle/input/breast-histopathology-images/9174', '/kaggle/input/breast-histopathology-images/9250', '/kaggle/input/breast-histopathology-images/15515', '/kaggle/input/breast-histopathology-images/9173', '/kaggle/input/breast-histopathology-images/12895', '/kaggle/input/breast-histopathology-images/12897', '/kaggle/input/breast-histopathology-images/12882', '/kaggle/input/breast-histopathology-images/12875', '/kaggle/input/breast-histopathology-images/12905', '/kaggle/input/breast-histopathology-images/13666', '/kaggle/input/breast-histopathology-images/15633', '/kaggle/input/breast-histopathology-images/8863', '/kaggle/input/breast-histopathology-images/12934', '/kaggle/input/breast-histopathology-images/12890', '/kaggle/input/breast-histopathology-images/10305', '/kaggle/input/breast-histopathology-images/9036', '/kaggle/input/breast-histopathology-images/12883', '/kaggle/input/breast-histopathology-images/10307', '/kaggle/input/breast-histopathology-images/14153', '/kaggle/input/breast-histopathology-images/16531', '/kaggle/input/breast-histopathology-images/15632', '/kaggle/input/breast-histopathology-images/12820', '/kaggle/input/breast-histopathology-images/10272', '/kaggle/input/breast-histopathology-images/12871', '/kaggle/input/breast-histopathology-images/9382', '/kaggle/input/breast-histopathology-images/10256', '/kaggle/input/breast-histopathology-images/9258', '/kaggle/input/breast-histopathology-images/16014', '/kaggle/input/breast-histopathology-images/16895', '/kaggle/input/breast-histopathology-images/13462', '/kaggle/input/breast-histopathology-images/14079', '/kaggle/input/breast-histopathology-images/12817', '/kaggle/input/breast-histopathology-images/8918', '/kaggle/input/breast-histopathology-images/8916', '/kaggle/input/breast-histopathology-images/15510', '/kaggle/input/breast-histopathology-images/12878', '/kaggle/input/breast-histopathology-images/12242', '/kaggle/input/breast-histopathology-images/14321', '/kaggle/input/breast-histopathology-images/9044', '/kaggle/input/breast-histopathology-images/9324', '/kaggle/input/breast-histopathology-images/12933', '/kaggle/input/breast-histopathology-images/8951', '/kaggle/input/breast-histopathology-images/10273', '/kaggle/input/breast-histopathology-images/12811', '/kaggle/input/breast-histopathology-images/9078', '/kaggle/input/breast-histopathology-images/14157', '/kaggle/input/breast-histopathology-images/10282', '/kaggle/input/breast-histopathology-images/9290', '/kaggle/input/breast-histopathology-images/13694', '/kaggle/input/breast-histopathology-images/9321', '/kaggle/input/breast-histopathology-images/8950', '/kaggle/input/breast-histopathology-images/15513', '/kaggle/input/breast-histopathology-images/10285', '/kaggle/input/breast-histopathology-images/9022', '/kaggle/input/breast-histopathology-images/16553', '/kaggle/input/breast-histopathology-images/8913', '/kaggle/input/breast-histopathology-images/13018', '/kaggle/input/breast-histopathology-images/12821', '/kaggle/input/breast-histopathology-images/12951', '/kaggle/input/breast-histopathology-images/12898', '/kaggle/input/breast-histopathology-images/13687', '/kaggle/input/breast-histopathology-images/9178', '/kaggle/input/breast-histopathology-images/13689', '/kaggle/input/breast-histopathology-images/12947', '/kaggle/input/breast-histopathology-images/15512', '/kaggle/input/breast-histopathology-images/10303', '/kaggle/input/breast-histopathology-images/12881', '/kaggle/input/breast-histopathology-images/12886', '/kaggle/input/breast-histopathology-images/12752', '/kaggle/input/breast-histopathology-images/9347', '/kaggle/input/breast-histopathology-images/10301', '/kaggle/input/breast-histopathology-images/IDC_regular_ps50_idx5', '/kaggle/input/breast-histopathology-images/9254', '/kaggle/input/breast-histopathology-images/10293', '/kaggle/input/breast-histopathology-images/12954', '/kaggle/input/breast-histopathology-images/9259', '/kaggle/input/breast-histopathology-images/14155', '/kaggle/input/breast-histopathology-images/9077', '/kaggle/input/breast-histopathology-images/10292', '/kaggle/input/breast-histopathology-images/9037', '/kaggle/input/breast-histopathology-images/12873']\n"
     ]
    }
   ],
   "source": [
    "create_data_path('/kaggle/working/','/kaggle/input/breast-histopathology-images/')"
   ]
  },
  {
   "cell_type": "code",
   "execution_count": 6,
   "id": "b50e213b",
   "metadata": {
    "execution": {
     "iopub.execute_input": "2025-03-02T15:09:41.127210Z",
     "iopub.status.busy": "2025-03-02T15:09:41.126548Z",
     "iopub.status.idle": "2025-03-02T15:09:41.133459Z",
     "shell.execute_reply": "2025-03-02T15:09:41.132542Z"
    },
    "papermill": {
     "duration": 0.013066,
     "end_time": "2025-03-02T15:09:41.135421",
     "exception": false,
     "start_time": "2025-03-02T15:09:41.122355",
     "status": "completed"
    },
    "tags": []
   },
   "outputs": [],
   "source": [
    "def split_training_validation(base_path,split_size):\n",
    "    list_file_0=glob.glob(os.path.join(base_path,'training/0/*'))\n",
    "    list_file_1 = glob.glob(os.path.join(base_path, 'training/1/*'))\n",
    "    tot_file=list_file_1+list_file_0\n",
    "    random.shuffle(tot_file)\n",
    "    training_set=tot_file[0:int(len(tot_file)*split_size)]\n",
    "    validation_set=tot_file[int(len(tot_file)*split_size):]\n",
    "    for file in validation_set:\n",
    "        if file[-5]=='0':\n",
    "            dst_path = os.path.join(os.path.join(base_path, 'validation/0'), os.path.basename(file))\n",
    "            shutil.copy(file, dst_path)\n",
    "        elif file[-5]=='1':\n",
    "            dst_path = os.path.join(os.path.join(base_path, 'validation/1'), os.path.basename(file))\n",
    "            shutil.copy(file, dst_path)"
   ]
  },
  {
   "cell_type": "code",
   "execution_count": 7,
   "id": "48395146",
   "metadata": {
    "execution": {
     "iopub.execute_input": "2025-03-02T15:09:41.143113Z",
     "iopub.status.busy": "2025-03-02T15:09:41.142415Z",
     "iopub.status.idle": "2025-03-02T15:09:48.852731Z",
     "shell.execute_reply": "2025-03-02T15:09:48.851640Z"
    },
    "papermill": {
     "duration": 7.716476,
     "end_time": "2025-03-02T15:09:48.855051",
     "exception": false,
     "start_time": "2025-03-02T15:09:41.138575",
     "status": "completed"
    },
    "tags": []
   },
   "outputs": [],
   "source": [
    "training_split=0.8\n",
    "split_training_validation('/kaggle/working/',training_split)"
   ]
  },
  {
   "cell_type": "code",
   "execution_count": 8,
   "id": "d9af363b",
   "metadata": {
    "execution": {
     "iopub.execute_input": "2025-03-02T15:09:48.862980Z",
     "iopub.status.busy": "2025-03-02T15:09:48.862403Z",
     "iopub.status.idle": "2025-03-02T15:09:48.868113Z",
     "shell.execute_reply": "2025-03-02T15:09:48.867299Z"
    },
    "papermill": {
     "duration": 0.011394,
     "end_time": "2025-03-02T15:09:48.869851",
     "exception": false,
     "start_time": "2025-03-02T15:09:48.858457",
     "status": "completed"
    },
    "tags": []
   },
   "outputs": [],
   "source": [
    "def create_data_generator(base_path,target_size):\n",
    "    # All images will be rescaled by 1./255\n",
    "    train_datagen = ImageDataGenerator(rescale=1 / 255)\n",
    "    validation_datagen = ImageDataGenerator(rescale=1 / 255)\n",
    "\n",
    "    # Flow training images in batches of 128 using train_datagen generator\n",
    "    train_generator = train_datagen.flow_from_directory(\n",
    "        os.path.join(base_path,'training/'),  # This is the source directory for training images\n",
    "        target_size=target_size,  # All images will be resized to 300x300\n",
    "        batch_size=64,\n",
    "        # Since you use binary_crossentropy loss, you need binary labels\n",
    "        class_mode='binary')\n",
    "\n",
    "    # Flow validation images in batches of 128 using validation_datagen generator\n",
    "    validation_generator = validation_datagen.flow_from_directory(\n",
    "        os.path.join(base_path,'validation/'),  # This is the source directory for validation images\n",
    "        target_size=target_size,  # All images will be resized to 300x300\n",
    "        batch_size=32,\n",
    "        # Since you use binary_crossentropy loss, you need binary labels\n",
    "        class_mode='binary')\n",
    "    return train_generator,validation_generator"
   ]
  },
  {
   "cell_type": "code",
   "execution_count": 9,
   "id": "064e3c49",
   "metadata": {
    "execution": {
     "iopub.execute_input": "2025-03-02T15:09:48.877445Z",
     "iopub.status.busy": "2025-03-02T15:09:48.876948Z",
     "iopub.status.idle": "2025-03-02T15:09:54.147731Z",
     "shell.execute_reply": "2025-03-02T15:09:54.146930Z"
    },
    "papermill": {
     "duration": 5.276924,
     "end_time": "2025-03-02T15:09:54.149993",
     "exception": false,
     "start_time": "2025-03-02T15:09:48.873069",
     "status": "completed"
    },
    "tags": []
   },
   "outputs": [
    {
     "name": "stdout",
     "output_type": "stream",
     "text": [
      "Found 277524 images belonging to 2 classes.\n",
      "Found 55505 images belonging to 2 classes.\n"
     ]
    }
   ],
   "source": [
    "train_generator,validation_generator=create_data_generator('/kaggle/working/',(50,50))"
   ]
  },
  {
   "cell_type": "code",
   "execution_count": 10,
   "id": "430f33e3",
   "metadata": {
    "execution": {
     "iopub.execute_input": "2025-03-02T15:09:54.158572Z",
     "iopub.status.busy": "2025-03-02T15:09:54.157812Z",
     "iopub.status.idle": "2025-03-02T15:09:54.163508Z",
     "shell.execute_reply": "2025-03-02T15:09:54.162566Z"
    },
    "papermill": {
     "duration": 0.011869,
     "end_time": "2025-03-02T15:09:54.165335",
     "exception": false,
     "start_time": "2025-03-02T15:09:54.153466",
     "status": "completed"
    },
    "tags": []
   },
   "outputs": [],
   "source": [
    "class CustomCallback(tf.keras.callbacks.Callback):\n",
    "\n",
    "    def on_epoch_end(self, epoch, logs=None):\n",
    "        keys = list(logs.keys())\n",
    "        if (logs.get('val_accuracy') > 0.95):\n",
    "            print(\"\\nReached 95% accuracy so cancelling training!\")\n",
    "            self.model.stop_training = True"
   ]
  },
  {
   "cell_type": "code",
   "execution_count": 11,
   "id": "bff41312",
   "metadata": {
    "execution": {
     "iopub.execute_input": "2025-03-02T15:09:54.172930Z",
     "iopub.status.busy": "2025-03-02T15:09:54.172293Z",
     "iopub.status.idle": "2025-03-02T15:09:54.179937Z",
     "shell.execute_reply": "2025-03-02T15:09:54.178973Z"
    },
    "papermill": {
     "duration": 0.013385,
     "end_time": "2025-03-02T15:09:54.181894",
     "exception": false,
     "start_time": "2025-03-02T15:09:54.168509",
     "status": "completed"
    },
    "tags": []
   },
   "outputs": [],
   "source": [
    "def create_model(input_shape):\n",
    "    model = tf.keras.models.Sequential([\n",
    "        # Note the input shape is the desired size of the image 300x300 with 3 bytes color\n",
    "        # This is the first convolution\n",
    "        tf.keras.layers.Conv2D(64, (3, 3), activation='relu', input_shape=input_shape),\n",
    "        tf.keras.layers.MaxPooling2D(2, 2),\n",
    "        # Flatten the results to feed into a DNN\n",
    "        tf.keras.layers.Flatten(),\n",
    "        # 512 neuron hidden layer\n",
    "        tf.keras.layers.Dense(128, activation='relu'),\n",
    "        tf.keras.layers.Dense(512, activation='relu'),\n",
    "        tf.keras.layers.Dropout(0.4),\n",
    "\n",
    "        # Only 1 output neuron. It will contain a value from 0-1 where 0 for 1 class ('horses') and 1 for the other ('humans')\n",
    "        tf.keras.layers.Dense(1, activation='sigmoid')\n",
    "    ])\n",
    "    my_cb=CustomCallback()\n",
    "    early_stopping=tf.keras.callbacks.EarlyStopping(monitor='val_loss',patience=3,verbose=1)\n",
    "    reduce_lr=tf.keras.callbacks.ReduceLROnPlateau(monitor='val_loss',verbose=1)\n",
    "    os.makedirs('/kaggle/output')\n",
    "    model_cp=tf.keras.callbacks.ModelCheckpoint('/kaggle/output',verbose=1)\n",
    "    model.compile(loss='binary_crossentropy',\n",
    "                  optimizer=tf.keras.optimizers.Adam(learning_rate=0.0001),\n",
    "                  metrics=['accuracy'])\n",
    "    return model,[early_stopping,reduce_lr,model_cp]"
   ]
  },
  {
   "cell_type": "code",
   "execution_count": 12,
   "id": "5aa372ec",
   "metadata": {
    "execution": {
     "iopub.execute_input": "2025-03-02T15:09:54.189529Z",
     "iopub.status.busy": "2025-03-02T15:09:54.188982Z",
     "iopub.status.idle": "2025-03-02T15:57:35.617977Z",
     "shell.execute_reply": "2025-03-02T15:57:35.616950Z"
    },
    "papermill": {
     "duration": 2861.965049,
     "end_time": "2025-03-02T15:57:36.150236",
     "exception": false,
     "start_time": "2025-03-02T15:09:54.185187",
     "status": "completed"
    },
    "tags": []
   },
   "outputs": [
    {
     "name": "stdout",
     "output_type": "stream",
     "text": [
      "Model: \"sequential\"\n",
      "_________________________________________________________________\n",
      " Layer (type)                Output Shape              Param #   \n",
      "=================================================================\n",
      " conv2d (Conv2D)             (None, 48, 48, 64)        1792      \n",
      "                                                                 \n",
      " max_pooling2d (MaxPooling2D  (None, 24, 24, 64)       0         \n",
      " )                                                               \n",
      "                                                                 \n",
      " flatten (Flatten)           (None, 36864)             0         \n",
      "                                                                 \n",
      " dense (Dense)               (None, 128)               4718720   \n",
      "                                                                 \n",
      " dense_1 (Dense)             (None, 512)               66048     \n",
      "                                                                 \n",
      " dropout (Dropout)           (None, 512)               0         \n",
      "                                                                 \n",
      " dense_2 (Dense)             (None, 1)                 513       \n",
      "                                                                 \n",
      "=================================================================\n",
      "Total params: 4,787,073\n",
      "Trainable params: 4,787,073\n",
      "Non-trainable params: 0\n",
      "_________________________________________________________________\n",
      "Epoch 1/20\n",
      "4337/4337 [==============================] - ETA: 0s - loss: 0.3886 - accuracy: 0.8292\n",
      "Epoch 1: saving model to /kaggle/output\n",
      "4337/4337 [==============================] - 161s 35ms/step - loss: 0.3886 - accuracy: 0.8292 - val_loss: 0.3680 - val_accuracy: 0.8378 - lr: 1.0000e-04\n",
      "Epoch 2/20\n",
      "4336/4337 [============================>.] - ETA: 0s - loss: 0.3494 - accuracy: 0.8494\n",
      "Epoch 2: saving model to /kaggle/output\n",
      "4337/4337 [==============================] - 139s 32ms/step - loss: 0.3493 - accuracy: 0.8494 - val_loss: 0.3438 - val_accuracy: 0.8478 - lr: 1.0000e-04\n",
      "Epoch 3/20\n",
      "4336/4337 [============================>.] - ETA: 0s - loss: 0.3313 - accuracy: 0.8581\n",
      "Epoch 3: saving model to /kaggle/output\n",
      "4337/4337 [==============================] - 138s 32ms/step - loss: 0.3313 - accuracy: 0.8582 - val_loss: 0.3089 - val_accuracy: 0.8695 - lr: 1.0000e-04\n",
      "Epoch 4/20\n",
      "4336/4337 [============================>.] - ETA: 0s - loss: 0.3163 - accuracy: 0.8649\n",
      "Epoch 4: saving model to /kaggle/output\n",
      "4337/4337 [==============================] - 137s 32ms/step - loss: 0.3163 - accuracy: 0.8649 - val_loss: 0.2936 - val_accuracy: 0.8783 - lr: 1.0000e-04\n",
      "Epoch 5/20\n",
      "4336/4337 [============================>.] - ETA: 0s - loss: 0.3003 - accuracy: 0.8724\n",
      "Epoch 5: saving model to /kaggle/output\n",
      "4337/4337 [==============================] - 137s 31ms/step - loss: 0.3003 - accuracy: 0.8724 - val_loss: 0.2823 - val_accuracy: 0.8853 - lr: 1.0000e-04\n",
      "Epoch 6/20\n",
      "4337/4337 [==============================] - ETA: 0s - loss: 0.2833 - accuracy: 0.8797\n",
      "Epoch 6: saving model to /kaggle/output\n",
      "4337/4337 [==============================] - 136s 31ms/step - loss: 0.2833 - accuracy: 0.8797 - val_loss: 0.2839 - val_accuracy: 0.8785 - lr: 1.0000e-04\n",
      "Epoch 7/20\n",
      "4337/4337 [==============================] - ETA: 0s - loss: 0.2627 - accuracy: 0.8903\n",
      "Epoch 7: saving model to /kaggle/output\n",
      "4337/4337 [==============================] - 136s 31ms/step - loss: 0.2627 - accuracy: 0.8903 - val_loss: 0.2394 - val_accuracy: 0.9015 - lr: 1.0000e-04\n",
      "Epoch 8/20\n",
      "4337/4337 [==============================] - ETA: 0s - loss: 0.2411 - accuracy: 0.9003\n",
      "Epoch 8: saving model to /kaggle/output\n",
      "4337/4337 [==============================] - 136s 31ms/step - loss: 0.2411 - accuracy: 0.9003 - val_loss: 0.2094 - val_accuracy: 0.9178 - lr: 1.0000e-04\n",
      "Epoch 9/20\n",
      "4336/4337 [============================>.] - ETA: 0s - loss: 0.2168 - accuracy: 0.9113\n",
      "Epoch 9: saving model to /kaggle/output\n",
      "4337/4337 [==============================] - 139s 32ms/step - loss: 0.2168 - accuracy: 0.9113 - val_loss: 0.1817 - val_accuracy: 0.9299 - lr: 1.0000e-04\n",
      "Epoch 10/20\n",
      "4336/4337 [============================>.] - ETA: 0s - loss: 0.1911 - accuracy: 0.9230\n",
      "Epoch 10: saving model to /kaggle/output\n",
      "4337/4337 [==============================] - 142s 33ms/step - loss: 0.1911 - accuracy: 0.9230 - val_loss: 0.1705 - val_accuracy: 0.9301 - lr: 1.0000e-04\n",
      "Epoch 11/20\n",
      "4337/4337 [==============================] - ETA: 0s - loss: 0.1654 - accuracy: 0.9343\n",
      "Epoch 11: saving model to /kaggle/output\n",
      "4337/4337 [==============================] - 142s 33ms/step - loss: 0.1654 - accuracy: 0.9343 - val_loss: 0.1318 - val_accuracy: 0.9534 - lr: 1.0000e-04\n",
      "Epoch 12/20\n",
      "4336/4337 [============================>.] - ETA: 0s - loss: 0.1383 - accuracy: 0.9460\n",
      "Epoch 12: saving model to /kaggle/output\n",
      "4337/4337 [==============================] - 143s 33ms/step - loss: 0.1383 - accuracy: 0.9460 - val_loss: 0.1126 - val_accuracy: 0.9595 - lr: 1.0000e-04\n",
      "Epoch 13/20\n",
      "4336/4337 [============================>.] - ETA: 0s - loss: 0.1141 - accuracy: 0.9566\n",
      "Epoch 13: saving model to /kaggle/output\n",
      "4337/4337 [==============================] - 143s 33ms/step - loss: 0.1141 - accuracy: 0.9566 - val_loss: 0.0817 - val_accuracy: 0.9715 - lr: 1.0000e-04\n",
      "Epoch 14/20\n",
      "4336/4337 [============================>.] - ETA: 0s - loss: 0.0928 - accuracy: 0.9655\n",
      "Epoch 14: saving model to /kaggle/output\n",
      "4337/4337 [==============================] - 145s 33ms/step - loss: 0.0928 - accuracy: 0.9655 - val_loss: 0.0754 - val_accuracy: 0.9735 - lr: 1.0000e-04\n",
      "Epoch 15/20\n",
      "4336/4337 [============================>.] - ETA: 0s - loss: 0.0764 - accuracy: 0.9718\n",
      "Epoch 15: saving model to /kaggle/output\n",
      "4337/4337 [==============================] - 144s 33ms/step - loss: 0.0765 - accuracy: 0.9718 - val_loss: 0.0561 - val_accuracy: 0.9800 - lr: 1.0000e-04\n",
      "Epoch 16/20\n",
      "4337/4337 [==============================] - ETA: 0s - loss: 0.0611 - accuracy: 0.9777\n",
      "Epoch 16: saving model to /kaggle/output\n",
      "4337/4337 [==============================] - 146s 34ms/step - loss: 0.0611 - accuracy: 0.9777 - val_loss: 0.0592 - val_accuracy: 0.9803 - lr: 1.0000e-04\n",
      "Epoch 17/20\n",
      "4337/4337 [==============================] - ETA: 0s - loss: 0.0510 - accuracy: 0.9821\n",
      "Epoch 17: saving model to /kaggle/output\n",
      "4337/4337 [==============================] - 146s 34ms/step - loss: 0.0510 - accuracy: 0.9821 - val_loss: 0.0434 - val_accuracy: 0.9844 - lr: 1.0000e-04\n",
      "Epoch 18/20\n",
      "4337/4337 [==============================] - ETA: 0s - loss: 0.0438 - accuracy: 0.9846\n",
      "Epoch 18: saving model to /kaggle/output\n",
      "4337/4337 [==============================] - 149s 34ms/step - loss: 0.0438 - accuracy: 0.9846 - val_loss: 0.0237 - val_accuracy: 0.9935 - lr: 1.0000e-04\n",
      "Epoch 19/20\n",
      "4337/4337 [==============================] - ETA: 0s - loss: 0.0388 - accuracy: 0.9864\n",
      "Epoch 19: saving model to /kaggle/output\n",
      "4337/4337 [==============================] - 149s 34ms/step - loss: 0.0388 - accuracy: 0.9864 - val_loss: 0.0179 - val_accuracy: 0.9951 - lr: 1.0000e-04\n",
      "Epoch 20/20\n",
      "4336/4337 [============================>.] - ETA: 0s - loss: 0.0339 - accuracy: 0.9884\n",
      "Epoch 20: saving model to /kaggle/output\n",
      "4337/4337 [==============================] - 150s 34ms/step - loss: 0.0339 - accuracy: 0.9884 - val_loss: 0.0373 - val_accuracy: 0.9867 - lr: 1.0000e-04\n"
     ]
    }
   ],
   "source": [
    "model,callbacks=create_model((50,50,3))\n",
    "model.summary()\n",
    "#Fit model\n",
    "history = model.fit(\n",
    "      train_generator,\n",
    "      epochs=20,\n",
    "      verbose=1,\n",
    "      validation_data = validation_generator,callbacks=callbacks)"
   ]
  },
  {
   "cell_type": "code",
   "execution_count": 13,
   "id": "7d157843",
   "metadata": {
    "execution": {
     "iopub.execute_input": "2025-03-02T15:57:40.125237Z",
     "iopub.status.busy": "2025-03-02T15:57:40.124223Z",
     "iopub.status.idle": "2025-03-02T15:57:40.409530Z",
     "shell.execute_reply": "2025-03-02T15:57:40.408615Z"
    },
    "papermill": {
     "duration": 2.321091,
     "end_time": "2025-03-02T15:57:40.412060",
     "exception": false,
     "start_time": "2025-03-02T15:57:38.090969",
     "status": "completed"
    },
    "tags": []
   },
   "outputs": [
    {
     "data": {
      "image/png": "[encoded data removed]",
      "text/plain": [
       "<Figure size 640x480 with 1 Axes>"
      ]
     },
     "metadata": {},
     "output_type": "display_data"
    }
   ],
   "source": [
    "import matplotlib.pyplot as plt\n",
    "\n",
    "acc = history.history['accuracy']\n",
    "val_acc = history.history['val_accuracy']\n",
    "loss = history.history['loss']\n",
    "val_loss = history.history['val_loss']\n",
    "\n",
    "epochs = range(len(acc))\n",
    "plt.plot(epochs, acc, 'r', label='Training accuracy', markersize=5)\n",
    "plt.plot(epochs, val_acc, 'b', label='Validation accuracy', markersize=5)\n",
    "plt.grid(True)\n",
    "plt.xlabel('Epochs', fontsize=12, fontweight='bold')  # Bold and increase font size for x-axis label\n",
    "plt.ylabel('Accuracy', fontsize=12, fontweight='bold')  # Bold and increase font size for y-axis label\n",
    "plt.legend(loc='lower right')\n",
    "plt.show()"
   ]
  },
  {
   "cell_type": "code",
   "execution_count": 14,
   "id": "10723a45",
   "metadata": {
    "execution": {
     "iopub.execute_input": "2025-03-02T15:57:44.301431Z",
     "iopub.status.busy": "2025-03-02T15:57:44.300739Z",
     "iopub.status.idle": "2025-03-02T15:57:44.533344Z",
     "shell.execute_reply": "2025-03-02T15:57:44.532329Z"
    },
    "papermill": {
     "duration": 2.170698,
     "end_time": "2025-03-02T15:57:44.535459",
     "exception": false,
     "start_time": "2025-03-02T15:57:42.364761",
     "status": "completed"
    },
    "tags": []
   },
   "outputs": [
    {
     "data": {
      "image/png": "[encoded data removed]",
      "text/plain": [
       "<Figure size 640x480 with 1 Axes>"
      ]
     },
     "metadata": {},
     "output_type": "display_data"
    }
   ],
   "source": [
    "plt.plot(epochs, loss, 'r', label='Training loss', markersize=5)  # Increase markersize\n",
    "plt.plot(epochs, val_loss, 'b', label='Validation loss', markersize=5)  # Increase markersize\n",
    "plt.xlabel('Epochs', fontsize=12, fontweight='bold')  # Bold and increase font size for x-axis label\n",
    "plt.ylabel('Accuracy', fontsize=12, fontweight='bold')  # Bold and increase font size for y-axis label\n",
    "plt.grid(True)  # Turn on grid\n",
    "plt.legend(loc=0)\n",
    "plt.show()"
   ]
  }
 ],
 "metadata": {
  "kaggle": {
   "accelerator": "gpu",
   "dataSources": [
    {
     "datasetId": 7415,
     "sourceId": 10564,
     "sourceType": "datasetVersion"
    }
   ],
   "dockerImageVersionId": 30458,
   "isGpuEnabled": true,
   "isInternetEnabled": true,
   "language": "python",
   "sourceType": "notebook"
  },
  "kernelspec": {
   "display_name": "Python 3",
   "language": "python",
   "name": "python3"
  },
  "language_info": {
   "codemirror_mode": {
    "name": "ipython",
    "version": 3
   },
   "file_extension": ".py",
   "mimetype": "text/x-python",
   "name": "python",
   "nbconvert_exporter": "python",
   "pygments_lexer": "ipython3",
   "version": "3.7.12"
  },
  "papermill": {
   "default_parameters": {},
   "duration": 5343.691946,
   "end_time": "2025-03-02T15:57:50.273796",
   "environment_variables": {},
   "exception": null,
   "input_path": "__notebook__.ipynb",
   "output_path": "__notebook__.ipynb",
   "parameters": {},
   "start_time": "2025-03-02T14:28:46.581850",
   "version": "2.4.0"
  }
 },
 "nbformat": 4,
 "nbformat_minor": 5
}
